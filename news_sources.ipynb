{
 "cells": [
  {
   "cell_type": "code",
   "execution_count": 123,
   "metadata": {},
   "outputs": [],
   "source": [
    "import pandas as pd\n",
    "import numpy as np\n",
    "import matplotlib.pyplot as plt\n",
    "from urllib.request import urlopen\n",
    "import ssl\n",
    "ssl._create_default_https_context = ssl._create_unverified_context\n"
   ]
  },
  {
   "cell_type": "code",
   "execution_count": 27,
   "metadata": {},
   "outputs": [
    {
     "name": "stdout",
     "output_type": "stream",
     "text": [
      "https://www.allsides.com/search?search=abortion&item_bundle=1&sort_by=node_created\n"
     ]
    }
   ],
   "source": [
    "url_skeleton = 'https://www.allsides.com/search?search={}&item_bundle=1&sort_by=node_created'"
   ]
  },
  {
   "cell_type": "markdown",
   "metadata": {},
   "source": [
    "**Importing the Modules**\n",
    "- requests\n",
    "- BeautifulSoup\n",
    "- csv \n",
    "- re\n",
    "- socket"
   ]
  },
  {
   "cell_type": "code",
   "execution_count": 28,
   "metadata": {},
   "outputs": [],
   "source": [
    "import requests\n",
    "from bs4 import BeautifulSoup\n",
    "import csv\n",
    "import re "
   ]
  },
  {
   "cell_type": "code",
   "execution_count": 11,
   "metadata": {},
   "outputs": [],
   "source": [
    "topics = ['abortion', 'defense-and-security', 'economy-and-jobs', 'energy', 'environment', \\\n",
    "          'foreign-policy', 'sustainability', 'gun-control-and-gun-rights', 'violence-america', \\\n",
    "            'healthcare', 'public-health', 'housing-and-homelessness', 'race', 'civil-rights']"
   ]
  },
  {
   "cell_type": "code",
   "execution_count": null,
   "metadata": {},
   "outputs": [],
   "source": [
    "def soup_basics(item):\n",
    "    page = requests.get(item)\n",
    "    soup = BeautifulSoup(page.text, 'html.parser')\n",
    "    return soup"
   ]
  },
  {
   "cell_type": "code",
   "execution_count": null,
   "metadata": {},
   "outputs": [],
   "source": [
    "url = \"https://www.allsides.com/search?search=abortion&item_bundle=1&sort_by=node_created\""
   ]
  },
  {
   "cell_type": "code",
   "execution_count": 89,
   "metadata": {},
   "outputs": [
    {
     "name": "stdout",
     "output_type": "stream",
     "text": [
      "200\n",
      "{'Content': 'close      Video Trump reportedly promotes abortion ban after 16 weeks of pregnancy Former President Donald Trump discusses ‘common sense’ on ‘MediaBuzz,’ and says ‘you have to have the three exceptions’ on abortions. Join Fox News for access to this content Plus special access to select articles and other premium content with your account - free of charge. Please enter a valid email address.   By entering your email and pushing continue, you are agreeing to Fox News\\' Terms of Use and Privacy Policy, which includes our Notice of Financial Incentive. To access the content, check your email and follow the instructions provided.\\n       Having trouble? Click here. The Supreme Court appeared ready to dismiss a challenge on Tuesday from opponents of the Food and Drug Administration\\'s (FDA) relaxed requirements for dispensing an abortion drug, used to terminate nearly two-thirds of pregnancies in the country. That would be a victory for the Biden administration and abortion rights supporters, by keeping current rules in place and allowing access in most of the country to the medication.    The justices heard about 90 minutes of arguments about the federal government regulations since 2016 that made access to the drug mifepristone easier, including access by mail. A majority on the court — including several conservatives — suggested individual doctors and advocacy groups that sued may lack \"standing\" or a legal right to sue to block nationwide access to the medication. Ruling on that legal threshold could mean the court would not address the broader legal arguments over the level of judicial oversight for federal agency actions, including FDA authority to regulate the safety of medicines.\"Do we have to also entertain your argument that no one else in the world can have this drug or no one else in America should have this drug in order to protect your clients?\" and their conscientious objections on dispensing or treating patients seeking abortions or emergency reproductive care, asked Justice Ketanji Brown Jackson.  Boxes of the drug mifepristone sit on a shelf at the West Alabama Women\\'s Center in Tuscaloosa, Alabama, on March 16, 2022.   SUPREME COURT DIVES BACK INTO ABORTION DEBATE, WILL HEAR ARGUMENTS ON MIFEPRISTONE REGULATION  Justice Neil Gorsuch raised concerns over judges who had issued a legal maneuver to block continued access to mifepristone. The Supreme Court for now has allowed the FDA regulations to stay in place pending a final ruling.  \"We\\'ve had, one might call it, a rash of universal injunctions,\" said Gorsuch. \"And this case seems like a prime example of turning what could be a small lawsuit into a nationwide legislative assembly on an FDA rule or any other federal government action.\"But Justice Samuel Alito questioned whether the FDA should have unfettered discretion.  \"So your argument is that it doesn\\'t matter if FDA flagrantly violated the law or didn\\'t do what it should have done, endanger the health of women,\" Alito asked the U.S. Solicitor General Elizabeth Prelogar, defending the agency. \"It\\'s just too bad, and nobody can sue in court?\"Dozens of activists on both sides rallied in front of the court, in what has become a contentious election-year political, social, cultural and health-related debate.  The issues presented come nearly two years after the Supreme Court overturned the nationwide constitutional right to abortion, giving states individual discretion to regulate the procedure.    At the time, the court\\'s 5-4 conservative majority declared \"unelected members of this Court\" would not be intervening in the future to \"override the democratic process\" of legislators and mandate national abortion policy.New data from the Guttmacher Institute research group says nearly two-thirds of all abortions in the U.S. in 2023 relied on mifepristone.Abortion rights groups say the drug has been proven safe, and that the court\\'s decision could negatively impact 40 million women nationwide.    Anti-abortion organizations have countered that the FDA for two decades has unlawfully promoted a nationwide regime of on-demand abortion, in defiance of several state health and safety laws.\\xa0Mifepristone is taken along with misoprostol, and the two-drug combination is known as medication abortion or the \"abortion pill.\" Lower courts concluded the federal agency did not fully consider the potential health risks to women when revising regulations for mifepristone beginning in 2016. Those revisions — last updated in 2023 — include reducing the recommended dose, allowing use of the drug up to 10 weeks of pregnancy (from seven weeks), approving a generic version and permitting it to be mailed (eliminating in-person doctor visits), among other measures.Major pharmacy chains Walgreens and CVS announced this month they were certified to dispense the abortion drugs under the new rules.\\xa0\\xa0  Thirty-six states allow some form of access to mifepristone — 21 states in full and restricted in 15, according to Fox News research. Fourteen states ban abortion completely — including medication abortion — except for narrow exceptions.  Temporary security fences align along a path to the plaza of the U.S. Supreme Court Building in Washington, D.C., on April 19, 2023. (Anna Moneymaker/Getty Images)    WYOMING GOVERNOR SIGNS BILL OUTLAWING GENDER-REASSIGNMENT PROCEDURES ON CHILDREN, VETOES ABORTION RESTRICTIONSAbout six million women have used the drug since its approval 24 years ago.  Danco Laboratories, the drug\\'s manufacturer, had also appealed to the Supreme Court seeking final review on the merits.Dozens of advocacy groups, members of Congress and coalitions of states on both sides of the issue have filed legal \"amicus\" briefs in recent weeks.  During oral arguments, the Justice Department told the court it should not be \"second guessing\" the expertise of FDA officials who had painstakingly looked at mifepristone and found it to be safe. Prelogar said doctors that did not use or even prescribe the pill should\\xa0be prevented from suing based on their individual conscious \"injury.\"  Several on the bench seemed supportive of the government\\'s position.Justice Amy Coney Barrett questioned affidavits in the lawsuit from several doctors opposing the use of mifepristone, and whether their individualized \"harm\" was enough to sustain a lawsuit.  \"The difficulty, to me, is that the affidavits do read more like conscience objections,\" said\\xa0Barrett.\\xa0\"The conscience objection is strictly to actually participating in the abortion, to end the life of the embryo or fetus. And I don\\'t read either\\xa0[doctor filing affidavits]\\xa0to say that they ever participated in that.\"    \"I\\'m worried that there is a significant mismatch in this case between the claimed injury and the remedy that\\'s being sought,\" added Jackson. \"And the relief that they\\'re seeking would dramatically alter the approved conditions of use for\\xa0mifepristone\\xa0and affect women all around the nation simply because of this conscience injury.\"  A box of mifepristone pills seen at a pharmacy in Tehatta, West Bengal, India, on Aug. 18, 2023. (Soumyabrata Roy/NurPhoto via Getty Images)The court spent relatively little time on the merits of the case and whether the FDA overstepped its authority by loosening restrictions on mifepristone access.\"The reality is, even if there is some increase in emergency room visits, the question of when that rises to a sufficient safety risk is up to the FDA, correct?\" said Justice Sonia Sotomayor, regarding severe medical complications requiring hospitalization.  But Alito questioned how much discretion the FDA and other federal agencies should be afforded.  \"The statement was made that no court has ever previously second-guessed the FDA\\'s judgment about access to a drug,\" he said. \"It\\'s never second-guessed that? Do you think the FDA is infallible?\"\\xa0\\xa0This will not be the only abortion issue the Supreme Court is confronting\\xa0this term. The justices next month will hold oral arguments on a challenge to Idaho\\'s restrictions and whether they violate federal laws requiring hospitals to treat patients in life-threatening crises.    A federal court blocked enforcement of Idaho’s Defense of Life Act — which prohibits abortions unless necessary to save the life of the mother — on the ground that the federal Emergency Medical Treatment and Labor Act preempts it.The state\\'s near-total abortion ban establishes criminal penalties for doctors who perform the procedure, except under narrow circumstances.  CLICK HERE TO GET THE FOX NEWS APP  But the Biden administration counters that federal law requires emergency rooms to provide \"stabilizing care,\" including abortions, for a broader range of circumstances than a mother\\'s life, such as when a patient\\'s health is in \"serious jeopardy.\"\\xa0Other pending court challenges that may eventually reach the justices include whether the federal Title X family planning program can refer patients for abortions; and whether those whose religious faith supports abortion access can file First Amendment constitutional challenges to state bans.\\xa0How ever the court rules on these disputes, the political implications could be immediate and seismic in the November elections. The consolidated mifepristone cases are FDA v. Alliance for Hippocratic Medicine (23-235) and Danco Laboratories, LLC v. Alliance for Hippocratic Medicine (23-236). A ruling is expected by late June.  Shannon Bream currently serves as anchor of FOX News Sunday. She joined the network in 2007 as a Washington D.C- based correspondent covering the Supreme Court. Her latest book is \"The Love Stories of the Bible Speak.\"'}\n"
     ]
    }
   ],
   "source": [
    "selectors = {\n",
    "    'apnews.com': 'RichTextStoryBody RichTextBody',\n",
    "    'axios.com': 'DraftjsBlocks_draftjs__fm3S2',\n",
    "    'foxnews.com':'article-content'}\n",
    "\n",
    "\n",
    "    # Add more websites and their corresponding selectors as needed\n",
    "def scrape_actual_news(url_news, domain):\n",
    "    # domain = url.split('/')[2]\n",
    "    \n",
    "    # # Check if the domain is in the selectors dictionary\n",
    "    # if domain in selectors:\n",
    "        # Send a GET request to the URL\n",
    "    headers = {'User-Agent': 'Mozilla/5.0 (Windows NT 10.0; Win64; x64) AppleWebKit/537.36 (KHTML, like Gecko) Chrome/58.0.3029.110 Safari/537.3'}\n",
    "    response = requests.get(url_news, headers=headers)\n",
    "    print(response.status_code)\n",
    "    \n",
    "    # Check if the request was successful (status code 200)\n",
    "    if response.status_code == 200:\n",
    "        # Parse the HTML content of the page\n",
    "        soup = BeautifulSoup(response.content, 'html.parser') \n",
    "\n",
    "        selector = selectors[domain]   \n",
    "\n",
    "        # Extract title and content using the specified selectors\n",
    "        article_body = soup.find('div', class_=selector).text.strip()\n",
    "        # Return the extracted content\n",
    "        return {\n",
    "            'Content': article_body\n",
    "        }\n",
    "    else:\n",
    "        print(f\"Failed to retrieve content from {url_news}. Status code: {response.status_code}\")\n",
    "        return response.status_code"
   ]
  },
  {
   "cell_type": "code",
   "execution_count": 112,
   "metadata": {},
   "outputs": [],
   "source": [
    "def scrape_url_allsides(url_news):\n",
    "\n",
    "    response = requests.get(url_news)\n",
    "    soup = BeautifulSoup(response.content, 'html.parser')\n",
    "    read_more_div = soup.find('div', class_='read-more-story')\n",
    "    if read_more_div!=None:\n",
    "        full_story_url = read_more_div.find('a')['href']\n",
    "        return full_story_url\n",
    "    else:\n",
    "        return None"
   ]
  },
  {
   "cell_type": "code",
   "execution_count": 146,
   "metadata": {},
   "outputs": [
    {
     "name": "stdout",
     "output_type": "stream",
     "text": [
      "<p class=\"search-result-tags\"><span class=\"field-content\"><a href=\"/tags/supreme-court\">Supreme Court</a>, <a href=\"/tags/abortion\">Abortion</a>, <a href=\"/tags/abortion-pills\">Abortion Pills</a>, <a href=\"/tags/healthcare\">Healthcare</a>, <a href=\"/tags/womens-issues\">Women's Issues</a>, <a href=\"/tags/pharmaceuticals\">Pharmaceuticals</a></span></p>\n"
     ]
    },
    {
     "ename": "TypeError",
     "evalue": "'NoneType' object is not callable",
     "output_type": "error",
     "traceback": [
      "\u001b[0;31m---------------------------------------------------------------------------\u001b[0m",
      "\u001b[0;31mTypeError\u001b[0m                                 Traceback (most recent call last)",
      "Cell \u001b[0;32mIn[146], line 39\u001b[0m\n\u001b[1;32m     26\u001b[0m         data\u001b[38;5;241m.\u001b[39mappend({\n\u001b[1;32m     27\u001b[0m             \u001b[38;5;124m'\u001b[39m\u001b[38;5;124mPublished Date\u001b[39m\u001b[38;5;124m'\u001b[39m: published_date,\n\u001b[1;32m     28\u001b[0m             \u001b[38;5;124m'\u001b[39m\u001b[38;5;124mTitle\u001b[39m\u001b[38;5;124m'\u001b[39m: title,\n\u001b[0;32m   (...)\u001b[0m\n\u001b[1;32m     34\u001b[0m             \u001b[38;5;124m'\u001b[39m\u001b[38;5;124mTags\u001b[39m\u001b[38;5;124m'\u001b[39m:tag_texts,\n\u001b[1;32m     35\u001b[0m         })\n\u001b[1;32m     37\u001b[0m     \u001b[38;5;28;01mreturn\u001b[39;00m data\n\u001b[0;32m---> 39\u001b[0m \u001b[43mscrape_page\u001b[49m\u001b[43m(\u001b[49m\u001b[43murl\u001b[49m\u001b[43m)\u001b[49m\n",
      "Cell \u001b[0;32mIn[146], line 18\u001b[0m, in \u001b[0;36mscrape_page\u001b[0;34m(url)\u001b[0m\n\u001b[1;32m     16\u001b[0m \u001b[38;5;28;01mif\u001b[39;00m tags_element:\n\u001b[1;32m     17\u001b[0m     \u001b[38;5;28mprint\u001b[39m(tags_element)\n\u001b[0;32m---> 18\u001b[0m     soup \u001b[38;5;241m=\u001b[39m \u001b[43mBeautifulSoup\u001b[49m\u001b[43m(\u001b[49m\u001b[43mtags_element\u001b[49m\u001b[43m,\u001b[49m\u001b[43m \u001b[49m\u001b[38;5;124;43m'\u001b[39;49m\u001b[38;5;124;43mhtml.parser\u001b[39;49m\u001b[38;5;124;43m'\u001b[39;49m\u001b[43m)\u001b[49m\n\u001b[1;32m     19\u001b[0m     tags \u001b[38;5;241m=\u001b[39m soup\u001b[38;5;241m.\u001b[39mfind_all(\u001b[38;5;124m'\u001b[39m\u001b[38;5;124ma\u001b[39m\u001b[38;5;124m'\u001b[39m)\n\u001b[1;32m     20\u001b[0m     tag_texts \u001b[38;5;241m=\u001b[39m [tag\u001b[38;5;241m.\u001b[39mtext \u001b[38;5;28;01mfor\u001b[39;00m tag \u001b[38;5;129;01min\u001b[39;00m tags]\n",
      "File \u001b[0;32m/Library/Frameworks/Python.framework/Versions/3.11/lib/python3.11/site-packages/bs4/__init__.py:314\u001b[0m, in \u001b[0;36mBeautifulSoup.__init__\u001b[0;34m(self, markup, features, builder, parse_only, from_encoding, exclude_encodings, element_classes, **kwargs)\u001b[0m\n\u001b[1;32m    311\u001b[0m \u001b[38;5;28mself\u001b[39m\u001b[38;5;241m.\u001b[39mparse_only \u001b[38;5;241m=\u001b[39m parse_only\n\u001b[1;32m    313\u001b[0m \u001b[38;5;28;01mif\u001b[39;00m \u001b[38;5;28mhasattr\u001b[39m(markup, \u001b[38;5;124m'\u001b[39m\u001b[38;5;124mread\u001b[39m\u001b[38;5;124m'\u001b[39m):        \u001b[38;5;66;03m# It's a file-type object.\u001b[39;00m\n\u001b[0;32m--> 314\u001b[0m     markup \u001b[38;5;241m=\u001b[39m \u001b[43mmarkup\u001b[49m\u001b[38;5;241;43m.\u001b[39;49m\u001b[43mread\u001b[49m\u001b[43m(\u001b[49m\u001b[43m)\u001b[49m\n\u001b[1;32m    315\u001b[0m \u001b[38;5;28;01melif\u001b[39;00m \u001b[38;5;28mlen\u001b[39m(markup) \u001b[38;5;241m<\u001b[39m\u001b[38;5;241m=\u001b[39m \u001b[38;5;241m256\u001b[39m \u001b[38;5;129;01mand\u001b[39;00m (\n\u001b[1;32m    316\u001b[0m         (\u001b[38;5;28misinstance\u001b[39m(markup, \u001b[38;5;28mbytes\u001b[39m) \u001b[38;5;129;01mand\u001b[39;00m \u001b[38;5;129;01mnot\u001b[39;00m \u001b[38;5;124mb\u001b[39m\u001b[38;5;124m'\u001b[39m\u001b[38;5;124m<\u001b[39m\u001b[38;5;124m'\u001b[39m \u001b[38;5;129;01min\u001b[39;00m markup)\n\u001b[1;32m    317\u001b[0m         \u001b[38;5;129;01mor\u001b[39;00m (\u001b[38;5;28misinstance\u001b[39m(markup, \u001b[38;5;28mstr\u001b[39m) \u001b[38;5;129;01mand\u001b[39;00m \u001b[38;5;129;01mnot\u001b[39;00m \u001b[38;5;124m'\u001b[39m\u001b[38;5;124m<\u001b[39m\u001b[38;5;124m'\u001b[39m \u001b[38;5;129;01min\u001b[39;00m markup)\n\u001b[0;32m   (...)\u001b[0m\n\u001b[1;32m    321\u001b[0m     \u001b[38;5;66;03m# Beautiful Soup will still parse the input as markup,\u001b[39;00m\n\u001b[1;32m    322\u001b[0m     \u001b[38;5;66;03m# since that is sometimes the intended behavior.\u001b[39;00m\n\u001b[1;32m    323\u001b[0m     \u001b[38;5;28;01mif\u001b[39;00m \u001b[38;5;129;01mnot\u001b[39;00m \u001b[38;5;28mself\u001b[39m\u001b[38;5;241m.\u001b[39m_markup_is_url(markup):\n",
      "\u001b[0;31mTypeError\u001b[0m: 'NoneType' object is not callable"
     ]
    }
   ],
   "source": [
    "def scrape_page(url):\n",
    "    response = requests.get(url)\n",
    "    soup = BeautifulSoup(response.content, 'html.parser')\n",
    "    # Extract data from the page using BeautifulSoup\n",
    "    # Example: titles = soup.find_all('h2', class_='title')\n",
    "    articles = soup.find_all('div', class_='views-row')\n",
    "    data = []\n",
    "    for article in articles:\n",
    "        published_date = article.find('p', class_='search-result-publish-date').text.strip() if article.find('p', class_='search-result-publish-date') else 'NaN'\n",
    "        title = article.find('h3', class_='search-result-title').text.strip() if article.find('h3', class_='search-result-title') else 'NaN'\n",
    "        content = article.find('a', class_='search-result-body').text.strip() if article.find('a', class_='search-result-body') else 'NaN'\n",
    "        url = article.find('a', class_='search-result-body')['href'] if article.find('a', class_='search-result-body') else 'NaN'\n",
    "        news_channel = article.find('a', class_='search-result-source').text.strip() if article.find('a', class_='search-result-source') else 'NaN'\n",
    "        bias = article.find('img')['src'].split('-')[-1].strip().split('.')[0] if article.find('img') else 'NaN'\n",
    "        tags_element = article.find('p', class_='search-result-tags') if article.find('p', class_='search-result-tags') else None\n",
    "        if tags_element:\n",
    "            tags_html = tags_element.find('span', class_='field-content').prettify()  # Get the HTML content of the tags\n",
    "            soup = BeautifulSoup(tags_html, 'html.parser')  # Create a new BeautifulSoup object with the HTML content\n",
    "            tags = soup.find_all('a')  # Find all <a> tags within the HTML\n",
    "            tag_texts = [tag.text for tag in tags]  # Extract tag text from <a> tags\n",
    "\n",
    "        else:\n",
    "            tag_texts = None\n",
    "\n",
    "        news_channel_url = scrape_url_allsides(url) if url != 'NaN' else 'NaN'\n",
    "        \n",
    "        data.append({\n",
    "            'Published Date': published_date,\n",
    "            'Title': title,\n",
    "            'Content': content,\n",
    "            'URL': url,\n",
    "            'News Channel': news_channel,\n",
    "            \"News Channel URL\": news_channel_url,\n",
    "            'Bias': bias,\n",
    "            'Tags':tag_texts,\n",
    "        })\n",
    "    \n",
    "    return data\n",
    "\n",
    "scrape_page(url)\n"
   ]
  },
  {
   "cell_type": "code",
   "execution_count": 132,
   "metadata": {},
   "outputs": [],
   "source": [
    "def return_all_pages(n,url):\n",
    "    data = scrape_page(url)\n",
    "    for i in range(1,n):\n",
    "        url_new = url + \"&page=\" + str(i)\n",
    "        data += scrape_page(url_new)\n",
    "\n",
    "    return data\n",
    "\n",
    "abortion_data = return_all_pages(10,url)\n",
    "\n"
   ]
  },
  {
   "cell_type": "code",
   "execution_count": 133,
   "metadata": {},
   "outputs": [
    {
     "name": "stdout",
     "output_type": "stream",
     "text": [
      "  Published Date                                              Title  \\\n",
      "0    Mar 26 2024  Abortion pill ruling could be \"catastrophic\" f...   \n",
      "1    Mar 26 2024  Supreme Court seems likely to preserve access ...   \n",
      "2    Mar 26 2024  Supreme Court Appears Unlikely to Upend Aborti...   \n",
      "3    Mar 26 2024  Supreme Court appears inclined to preserve bro...   \n",
      "4    Mar 26 2024  We’re who Justice Alito said should make abort...   \n",
      "5    Mar 26 2024       Protests rage amid SCOTUS abortion arguments   \n",
      "6    Mar 26 2024  Florida arrests petition gatherer accused of s...   \n",
      "7    Mar 26 2024  Today on Texas Standard: An Indigenous perspec...   \n",
      "8    Mar 26 2024  Abortion pill usage surged post-Roe. These num...   \n",
      "9    Mar 26 2024  Supreme Court considers abortion pill access a...   \n",
      "\n",
      "                                             Content  \\\n",
      "0  The Supreme Court today will hear a challenge ...   \n",
      "1  The Supreme Court on Tuesday seemed likely to ...   \n",
      "2  The Supreme Court appeared likely to preserve ...   \n",
      "3  The Supreme Court appeared ready to dismiss a ...   \n",
      "4  The Supreme Court will hear oral arguments Tue...   \n",
      "5  WASHINGTON (NEXSTAR) – Protesters made their p...   \n",
      "6  The Florida Department of Law Enforcement (FDL...   \n",
      "7  Here’s what’s coming up on Texas Standard for ...   \n",
      "8  Americans’ use of medication abortion has rapi...   \n",
      "9  The Supreme Court will hear arguments over whe...   \n",
      "\n",
      "                                                 URL  \\\n",
      "0  https://www.allsides.com/news/2024-03-26-1531/...   \n",
      "1  https://www.allsides.com/news/2024-03-26-1317/...   \n",
      "2  https://www.allsides.com/news/2024-03-26-1316/...   \n",
      "3  https://www.allsides.com/news/2024-03-26-1315/...   \n",
      "4  https://www.allsides.com/news/2024-03-26-1204/...   \n",
      "5  https://www.allsides.com/news/2024-03-26-0930/...   \n",
      "6  https://www.allsides.com/news/2024-03-26-0830/...   \n",
      "7  https://www.allsides.com/news/2024-03-26-0745/...   \n",
      "8  https://www.allsides.com/news/2024-03-26-0430/...   \n",
      "9  https://www.allsides.com/news/2024-03-26-0430/...   \n",
      "\n",
      "                   News Channel  \\\n",
      "0                         Axios   \n",
      "1              Associated Press   \n",
      "2    Wall Street Journal (News)   \n",
      "3        Fox News (Online News)   \n",
      "4  Multiple Writers - Lean Left   \n",
      "5             Fox 4 Kansas City   \n",
      "6              Florida Politics   \n",
      "7                Texas Standard   \n",
      "8             Los Angeles Times   \n",
      "9             NBC News (Online)   \n",
      "\n",
      "                                    News Channel URL    Bias  \n",
      "0  https://www.axios.com/2024/03/26/abortion-supr...    left  \n",
      "1  https://apnews.com/article/supreme-court-abort...    left  \n",
      "2  https://www.wsj.com/us-news/law/supreme-court-...  center  \n",
      "3  https://www.foxnews.com/politics/supreme-court...   right  \n",
      "4  https://www.msnbc.com/opinion/msnbc-opinion/ab...    left  \n",
      "5  https://fox4kc.com/politics/washington-dc-bure...  center  \n",
      "6  https://floridapolitics.com/archives/666809-fl...  center  \n",
      "7  https://texasstandard.org/stories/today-on-tex...  center  \n",
      "8  https://latimes.com/world-nation/story/2024-03...    left  \n",
      "9  https://nbcnews.com/news/abortion-pill-baltimo...    left  \n"
     ]
    }
   ],
   "source": [
    "df = pd.DataFrame(abortion_data)\n",
    "\n",
    "print(df.head(10))\n"
   ]
  },
  {
   "cell_type": "code",
   "execution_count": 134,
   "metadata": {},
   "outputs": [],
   "source": [
    "df.to_csv('output.csv', index=False)\n"
   ]
  },
  {
   "cell_type": "code",
   "execution_count": 131,
   "metadata": {},
   "outputs": [
    {
     "data": {
      "text/plain": [
       "<bound method IndexOpsMixin.value_counts of 0                            Axios\n",
       "1                 Associated Press\n",
       "2       Wall Street Journal (News)\n",
       "3           Fox News (Online News)\n",
       "4     Multiple Writers - Lean Left\n",
       "5                Fox 4 Kansas City\n",
       "6                 Florida Politics\n",
       "7                   Texas Standard\n",
       "8                Los Angeles Times\n",
       "9                NBC News (Online)\n",
       "10               CBS News (Online)\n",
       "11                           Axios\n",
       "12           New York Times (News)\n",
       "13               Fox 4 Kansas City\n",
       "14             Florida Times-Union\n",
       "15                       Patch.com\n",
       "16            Catholic News Agency\n",
       "17                 Washington Post\n",
       "18                            KFGO\n",
       "19                          WCAX 3\n",
       "20                      Dan Schnur\n",
       "21                       Patch.com\n",
       "22                        Politico\n",
       "23         \"USA Today\" Contributor\n",
       "24                       The State\n",
       "25                     ABC 11 WTVD\n",
       "26                  Breitbart News\n",
       "27                          12News\n",
       "28       Austin American-Statesman\n",
       "29                      Alpha News\n",
       "30         San Francisco Chronicle\n",
       "31       Arkansas Democrat-Gazette\n",
       "32                The Daily Caller\n",
       "33              The Christian Post\n",
       "34                    Star Tribune\n",
       "35                American Thinker\n",
       "36          The Kansas City Beacon\n",
       "37                     FOX 25 KOKH\n",
       "38                            KWCH\n",
       "39                       The Blaze\n",
       "40                           Slate\n",
       "41                RollingStone.com\n",
       "42                         Fortune\n",
       "43                       1819 News\n",
       "44       Arkansas Democrat-Gazette\n",
       "45      National Catholic Register\n",
       "46           Portland Press Herald\n",
       "47                The Nevada Globe\n",
       "48                  AllSides Staff\n",
       "49                        HuffPost\n",
       "50            Catholic News Agency\n",
       "51               ABC News (Online)\n",
       "52                    New Republic\n",
       "53                             KSL\n",
       "54                       CT Mirror\n",
       "55                            WRAL\n",
       "56                        The Hill\n",
       "57                            WBUR\n",
       "58                        MinnPost\n",
       "59                         Reuters\n",
       "Name: News Channel, dtype: object>"
      ]
     },
     "execution_count": 131,
     "metadata": {},
     "output_type": "execute_result"
    }
   ],
   "source": [
    "df[\"News Channel\"].value_counts"
   ]
  },
  {
   "cell_type": "code",
   "execution_count": null,
   "metadata": {},
   "outputs": [],
   "source": [
    "# should we use article headlines or the actual content of the news\n",
    "# what should be the number of pages to be parsed through \n",
    "# what should be the number of topics to be considered?"
   ]
  }
 ],
 "metadata": {
  "kernelspec": {
   "display_name": "Python 3",
   "language": "python",
   "name": "python3"
  },
  "language_info": {
   "codemirror_mode": {
    "name": "ipython",
    "version": 3
   },
   "file_extension": ".py",
   "mimetype": "text/x-python",
   "name": "python",
   "nbconvert_exporter": "python",
   "pygments_lexer": "ipython3",
   "version": "3.11.6"
  }
 },
 "nbformat": 4,
 "nbformat_minor": 2
}
