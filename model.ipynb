{
 "cells": [
  {
   "cell_type": "code",
   "execution_count": 1,
   "metadata": {},
   "outputs": [
    {
     "name": "stdout",
     "output_type": "stream",
     "text": [
      "Requirement already satisfied: transformers in /Library/Frameworks/Python.framework/Versions/3.11/lib/python3.11/site-packages (4.39.2)\n",
      "Requirement already satisfied: filelock in /Library/Frameworks/Python.framework/Versions/3.11/lib/python3.11/site-packages (from transformers) (3.13.1)\n",
      "Requirement already satisfied: huggingface-hub<1.0,>=0.19.3 in /Library/Frameworks/Python.framework/Versions/3.11/lib/python3.11/site-packages (from transformers) (0.22.2)\n",
      "Requirement already satisfied: numpy>=1.17 in /Library/Frameworks/Python.framework/Versions/3.11/lib/python3.11/site-packages (from transformers) (1.26.4)\n",
      "Requirement already satisfied: packaging>=20.0 in /Users/archita/Library/Python/3.11/lib/python/site-packages (from transformers) (23.2)\n",
      "Requirement already satisfied: pyyaml>=5.1 in /Library/Frameworks/Python.framework/Versions/3.11/lib/python3.11/site-packages (from transformers) (6.0.1)\n",
      "Requirement already satisfied: regex!=2019.12.17 in /Library/Frameworks/Python.framework/Versions/3.11/lib/python3.11/site-packages (from transformers) (2023.12.25)\n",
      "Requirement already satisfied: requests in /Library/Frameworks/Python.framework/Versions/3.11/lib/python3.11/site-packages (from transformers) (2.31.0)\n",
      "Requirement already satisfied: tokenizers<0.19,>=0.14 in /Library/Frameworks/Python.framework/Versions/3.11/lib/python3.11/site-packages (from transformers) (0.15.2)\n",
      "Requirement already satisfied: safetensors>=0.4.1 in /Library/Frameworks/Python.framework/Versions/3.11/lib/python3.11/site-packages (from transformers) (0.4.2)\n",
      "Requirement already satisfied: tqdm>=4.27 in /Library/Frameworks/Python.framework/Versions/3.11/lib/python3.11/site-packages (from transformers) (4.66.2)\n",
      "Requirement already satisfied: fsspec>=2023.5.0 in /Library/Frameworks/Python.framework/Versions/3.11/lib/python3.11/site-packages (from huggingface-hub<1.0,>=0.19.3->transformers) (2024.2.0)\n",
      "Requirement already satisfied: typing-extensions>=3.7.4.3 in /Library/Frameworks/Python.framework/Versions/3.11/lib/python3.11/site-packages (from huggingface-hub<1.0,>=0.19.3->transformers) (4.10.0)\n",
      "Requirement already satisfied: charset-normalizer<4,>=2 in /Library/Frameworks/Python.framework/Versions/3.11/lib/python3.11/site-packages (from requests->transformers) (3.3.2)\n",
      "Requirement already satisfied: idna<4,>=2.5 in /Library/Frameworks/Python.framework/Versions/3.11/lib/python3.11/site-packages (from requests->transformers) (3.6)\n",
      "Requirement already satisfied: urllib3<3,>=1.21.1 in /Library/Frameworks/Python.framework/Versions/3.11/lib/python3.11/site-packages (from requests->transformers) (2.2.1)\n",
      "Requirement already satisfied: certifi>=2017.4.17 in /Library/Frameworks/Python.framework/Versions/3.11/lib/python3.11/site-packages (from requests->transformers) (2024.2.2)\n",
      "Note: you may need to restart the kernel to use updated packages.\n"
     ]
    }
   ],
   "source": [
    "pip install transformers"
   ]
  },
  {
   "cell_type": "code",
   "execution_count": 2,
   "metadata": {},
   "outputs": [
    {
     "name": "stdout",
     "output_type": "stream",
     "text": [
      "Requirement already satisfied: fast_ml==3.68 in /Library/Frameworks/Python.framework/Versions/3.11/lib/python3.11/site-packages (3.68)\n",
      "Note: you may need to restart the kernel to use updated packages.\n"
     ]
    }
   ],
   "source": [
    "pip install fast_ml==3.68\n"
   ]
  },
  {
   "cell_type": "code",
   "execution_count": 3,
   "metadata": {},
   "outputs": [
    {
     "name": "stdout",
     "output_type": "stream",
     "text": [
      "Requirement already satisfied: datasets in /Library/Frameworks/Python.framework/Versions/3.11/lib/python3.11/site-packages (2.18.0)\n",
      "Requirement already satisfied: filelock in /Library/Frameworks/Python.framework/Versions/3.11/lib/python3.11/site-packages (from datasets) (3.13.1)\n",
      "Requirement already satisfied: numpy>=1.17 in /Library/Frameworks/Python.framework/Versions/3.11/lib/python3.11/site-packages (from datasets) (1.26.4)\n",
      "Requirement already satisfied: pyarrow>=12.0.0 in /Library/Frameworks/Python.framework/Versions/3.11/lib/python3.11/site-packages (from datasets) (15.0.2)\n",
      "Requirement already satisfied: pyarrow-hotfix in /Library/Frameworks/Python.framework/Versions/3.11/lib/python3.11/site-packages (from datasets) (0.6)\n",
      "Requirement already satisfied: dill<0.3.9,>=0.3.0 in /Library/Frameworks/Python.framework/Versions/3.11/lib/python3.11/site-packages (from datasets) (0.3.8)\n",
      "Requirement already satisfied: pandas in /Library/Frameworks/Python.framework/Versions/3.11/lib/python3.11/site-packages (from datasets) (2.2.1)\n",
      "Requirement already satisfied: requests>=2.19.0 in /Library/Frameworks/Python.framework/Versions/3.11/lib/python3.11/site-packages (from datasets) (2.31.0)\n",
      "Requirement already satisfied: tqdm>=4.62.1 in /Library/Frameworks/Python.framework/Versions/3.11/lib/python3.11/site-packages (from datasets) (4.66.2)\n",
      "Requirement already satisfied: xxhash in /Library/Frameworks/Python.framework/Versions/3.11/lib/python3.11/site-packages (from datasets) (3.4.1)\n",
      "Requirement already satisfied: multiprocess in /Library/Frameworks/Python.framework/Versions/3.11/lib/python3.11/site-packages (from datasets) (0.70.16)\n",
      "Requirement already satisfied: fsspec<=2024.2.0,>=2023.1.0 in /Library/Frameworks/Python.framework/Versions/3.11/lib/python3.11/site-packages (from fsspec[http]<=2024.2.0,>=2023.1.0->datasets) (2024.2.0)\n",
      "Requirement already satisfied: aiohttp in /Library/Frameworks/Python.framework/Versions/3.11/lib/python3.11/site-packages (from datasets) (3.9.3)\n",
      "Requirement already satisfied: huggingface-hub>=0.19.4 in /Library/Frameworks/Python.framework/Versions/3.11/lib/python3.11/site-packages (from datasets) (0.22.2)\n",
      "Requirement already satisfied: packaging in /Users/archita/Library/Python/3.11/lib/python/site-packages (from datasets) (23.2)\n",
      "Requirement already satisfied: pyyaml>=5.1 in /Library/Frameworks/Python.framework/Versions/3.11/lib/python3.11/site-packages (from datasets) (6.0.1)\n",
      "Requirement already satisfied: aiosignal>=1.1.2 in /Library/Frameworks/Python.framework/Versions/3.11/lib/python3.11/site-packages (from aiohttp->datasets) (1.3.1)\n",
      "Requirement already satisfied: attrs>=17.3.0 in /Library/Frameworks/Python.framework/Versions/3.11/lib/python3.11/site-packages (from aiohttp->datasets) (23.2.0)\n",
      "Requirement already satisfied: frozenlist>=1.1.1 in /Library/Frameworks/Python.framework/Versions/3.11/lib/python3.11/site-packages (from aiohttp->datasets) (1.4.1)\n",
      "Requirement already satisfied: multidict<7.0,>=4.5 in /Library/Frameworks/Python.framework/Versions/3.11/lib/python3.11/site-packages (from aiohttp->datasets) (6.0.5)\n",
      "Requirement already satisfied: yarl<2.0,>=1.0 in /Library/Frameworks/Python.framework/Versions/3.11/lib/python3.11/site-packages (from aiohttp->datasets) (1.9.4)\n",
      "Requirement already satisfied: typing-extensions>=3.7.4.3 in /Library/Frameworks/Python.framework/Versions/3.11/lib/python3.11/site-packages (from huggingface-hub>=0.19.4->datasets) (4.10.0)\n",
      "Requirement already satisfied: charset-normalizer<4,>=2 in /Library/Frameworks/Python.framework/Versions/3.11/lib/python3.11/site-packages (from requests>=2.19.0->datasets) (3.3.2)\n",
      "Requirement already satisfied: idna<4,>=2.5 in /Library/Frameworks/Python.framework/Versions/3.11/lib/python3.11/site-packages (from requests>=2.19.0->datasets) (3.6)\n",
      "Requirement already satisfied: urllib3<3,>=1.21.1 in /Library/Frameworks/Python.framework/Versions/3.11/lib/python3.11/site-packages (from requests>=2.19.0->datasets) (2.2.1)\n",
      "Requirement already satisfied: certifi>=2017.4.17 in /Library/Frameworks/Python.framework/Versions/3.11/lib/python3.11/site-packages (from requests>=2.19.0->datasets) (2024.2.2)\n",
      "Requirement already satisfied: python-dateutil>=2.8.2 in /Users/archita/Library/Python/3.11/lib/python/site-packages (from pandas->datasets) (2.9.0.post0)\n",
      "Requirement already satisfied: pytz>=2020.1 in /Library/Frameworks/Python.framework/Versions/3.11/lib/python3.11/site-packages (from pandas->datasets) (2024.1)\n",
      "Requirement already satisfied: tzdata>=2022.7 in /Library/Frameworks/Python.framework/Versions/3.11/lib/python3.11/site-packages (from pandas->datasets) (2024.1)\n",
      "Requirement already satisfied: six>=1.5 in /Users/archita/Library/Python/3.11/lib/python/site-packages (from python-dateutil>=2.8.2->pandas->datasets) (1.16.0)\n",
      "Note: you may need to restart the kernel to use updated packages.\n"
     ]
    }
   ],
   "source": [
    "pip install datasets\n"
   ]
  },
  {
   "cell_type": "code",
   "execution_count": 4,
   "metadata": {},
   "outputs": [
    {
     "name": "stdout",
     "output_type": "stream",
     "text": [
      "Requirement already satisfied: scikit-learn in /Library/Frameworks/Python.framework/Versions/3.11/lib/python3.11/site-packages (1.4.2)\n",
      "Requirement already satisfied: numpy>=1.19.5 in /Library/Frameworks/Python.framework/Versions/3.11/lib/python3.11/site-packages (from scikit-learn) (1.26.4)\n",
      "Requirement already satisfied: scipy>=1.6.0 in /Library/Frameworks/Python.framework/Versions/3.11/lib/python3.11/site-packages (from scikit-learn) (1.12.0)\n",
      "Requirement already satisfied: joblib>=1.2.0 in /Library/Frameworks/Python.framework/Versions/3.11/lib/python3.11/site-packages (from scikit-learn) (1.3.2)\n",
      "Requirement already satisfied: threadpoolctl>=2.0.0 in /Library/Frameworks/Python.framework/Versions/3.11/lib/python3.11/site-packages (from scikit-learn) (3.4.0)\n",
      "Note: you may need to restart the kernel to use updated packages.\n"
     ]
    }
   ],
   "source": [
    "pip install scikit-learn"
   ]
  },
  {
   "cell_type": "code",
   "execution_count": 1,
   "metadata": {},
   "outputs": [],
   "source": [
    "import numpy as np\n",
    "import pandas as pd\n",
    "from fast_ml.model_development import train_valid_test_split\n",
    "from transformers import Trainer, TrainingArguments, AutoConfig, AutoTokenizer, AutoModelForSequenceClassification\n",
    "import torch\n",
    "from torch import nn\n",
    "from torch.nn.functional import softmax\n",
    "from sklearn.metrics import classification_report\n",
    "from sklearn.preprocessing import LabelEncoder\n",
    "import datasets\n"
   ]
  },
  {
   "cell_type": "code",
   "execution_count": 2,
   "metadata": {},
   "outputs": [
    {
     "name": "stdout",
     "output_type": "stream",
     "text": [
      "Device Availble: cpu\n"
     ]
    }
   ],
   "source": [
    "DEVICE = torch.device(\"cuda\" if torch.cuda.is_available() else \"cpu\")\n",
    "print (f'Device Availble: {DEVICE}')\n"
   ]
  },
  {
   "cell_type": "code",
   "execution_count": 3,
   "metadata": {},
   "outputs": [
    {
     "data": {
      "text/html": [
       "<div>\n",
       "<style scoped>\n",
       "    .dataframe tbody tr th:only-of-type {\n",
       "        vertical-align: middle;\n",
       "    }\n",
       "\n",
       "    .dataframe tbody tr th {\n",
       "        vertical-align: top;\n",
       "    }\n",
       "\n",
       "    .dataframe thead th {\n",
       "        text-align: right;\n",
       "    }\n",
       "</style>\n",
       "<table border=\"1\" class=\"dataframe\">\n",
       "  <thead>\n",
       "    <tr style=\"text-align: right;\">\n",
       "      <th></th>\n",
       "      <th>Unnamed: 0</th>\n",
       "      <th>Published Date</th>\n",
       "      <th>Title</th>\n",
       "      <th>AllSides Content</th>\n",
       "      <th>URL</th>\n",
       "      <th>News Channel</th>\n",
       "      <th>News Channel URL</th>\n",
       "      <th>Bias</th>\n",
       "      <th>Tags</th>\n",
       "      <th>topic</th>\n",
       "      <th>News Article Content</th>\n",
       "      <th>Processed text</th>\n",
       "      <th>Title_Sentiment_nltk</th>\n",
       "      <th>Sentiment_Content_nltk</th>\n",
       "      <th>Title_Sentiment_huggingface_a</th>\n",
       "      <th>Title_Sentiment_huggingface_b</th>\n",
       "      <th>Sentiment_Content_huggingface_b</th>\n",
       "    </tr>\n",
       "  </thead>\n",
       "  <tbody>\n",
       "    <tr>\n",
       "      <th>0</th>\n",
       "      <td>0</td>\n",
       "      <td>Feb 21 2024</td>\n",
       "      <td>Reproductive policy fights renew the focus on IVF</td>\n",
       "      <td>An Alabama Supreme Court decision legally reco...</td>\n",
       "      <td>https://www.allsides.com/news/2024-02-21-1315/...</td>\n",
       "      <td>Roll Call</td>\n",
       "      <td>https://rollcall.com/2024/02/20/reproductive-p...</td>\n",
       "      <td>center</td>\n",
       "      <td>['Supreme Court', 'Healthcare', 'Pregnancy', '...</td>\n",
       "      <td>abortion</td>\n",
       "      <td>An Alabama Supreme Court decision legally reco...</td>\n",
       "      <td>alabama supreme court decision legally recogni...</td>\n",
       "      <td>-0.4019</td>\n",
       "      <td>0.9900</td>\n",
       "      <td>0.865067</td>\n",
       "      <td>0.543246</td>\n",
       "      <td>0.536185</td>\n",
       "    </tr>\n",
       "    <tr>\n",
       "      <th>1</th>\n",
       "      <td>1</td>\n",
       "      <td>Mar 24 2024</td>\n",
       "      <td>'Some serious stigma': Arizona lawmaker explai...</td>\n",
       "      <td>Democratic Sen. Eva Burch got call from VP Har...</td>\n",
       "      <td>https://www.allsides.com/news/2024-03-24-1430/...</td>\n",
       "      <td>12News</td>\n",
       "      <td>https://12news.com/article/news/politics/sunda...</td>\n",
       "      <td>center</td>\n",
       "      <td>['Abortion']</td>\n",
       "      <td>abortion</td>\n",
       "      <td>Democratic Sen. Eva Burch got call from VP Har...</td>\n",
       "      <td>democratic sen. eva burch got call vp harris s...</td>\n",
       "      <td>-0.0772</td>\n",
       "      <td>0.9524</td>\n",
       "      <td>0.859620</td>\n",
       "      <td>0.542583</td>\n",
       "      <td>0.520938</td>\n",
       "    </tr>\n",
       "    <tr>\n",
       "      <th>2</th>\n",
       "      <td>2</td>\n",
       "      <td>Apr 08 2024</td>\n",
       "      <td>Trump says he’s in favor of letting states dec...</td>\n",
       "      <td>NEW YORK — Former President Donald Trump said ...</td>\n",
       "      <td>https://www.allsides.com/news/2024-04-08-1130/...</td>\n",
       "      <td>San Jose Mercury News</td>\n",
       "      <td>https://mercurynews.com/2024/04/08/trump-says-...</td>\n",
       "      <td>left</td>\n",
       "      <td>['Abortion']</td>\n",
       "      <td>abortion</td>\n",
       "      <td>By Jill Colvin | Associated Press\\n\\nNEW YORK ...</td>\n",
       "      <td>jill colvin | associated press new york — form...</td>\n",
       "      <td>0.4019</td>\n",
       "      <td>0.7886</td>\n",
       "      <td>0.728386</td>\n",
       "      <td>0.544220</td>\n",
       "      <td>0.525326</td>\n",
       "    </tr>\n",
       "    <tr>\n",
       "      <th>3</th>\n",
       "      <td>3</td>\n",
       "      <td>Mar 01 2024</td>\n",
       "      <td>CVS and Walgreens Will Begin Selling Abortion ...</td>\n",
       "      <td>The two largest pharmacy chains in the United ...</td>\n",
       "      <td>https://www.allsides.com/news/2024-03-01-1330/...</td>\n",
       "      <td>New York Times (News)</td>\n",
       "      <td>https://www.nytimes.com/2024/03/01/health/abor...</td>\n",
       "      <td>left</td>\n",
       "      <td>['Abortion', 'Abortion Pills', 'Public Health'...</td>\n",
       "      <td>abortion</td>\n",
       "      <td>The two largest pharmacy chains in the United ...</td>\n",
       "      <td>two largest pharmacy chain united state start ...</td>\n",
       "      <td>0.0000</td>\n",
       "      <td>0.9612</td>\n",
       "      <td>0.934649</td>\n",
       "      <td>0.538811</td>\n",
       "      <td>0.518969</td>\n",
       "    </tr>\n",
       "    <tr>\n",
       "      <th>4</th>\n",
       "      <td>4</td>\n",
       "      <td>Feb 02 2024</td>\n",
       "      <td>Wyoming Supreme Court Says Pro-Lifers Can't In...</td>\n",
       "      <td>The Wyoming Supreme Court on Friday denied a p...</td>\n",
       "      <td>https://www.allsides.com/news/2024-02-02-1225/...</td>\n",
       "      <td>Cowboy State Daily</td>\n",
       "      <td>https://cowboystatedaily.com/2024/02/02/wyomin...</td>\n",
       "      <td>right</td>\n",
       "      <td>['Abortion', 'Supreme Court']</td>\n",
       "      <td>abortion</td>\n",
       "      <td>The Wyoming Supreme Court on Friday denied a p...</td>\n",
       "      <td>wyoming supreme court friday denied petition t...</td>\n",
       "      <td>0.4019</td>\n",
       "      <td>0.9217</td>\n",
       "      <td>0.802395</td>\n",
       "      <td>0.537625</td>\n",
       "      <td>0.526178</td>\n",
       "    </tr>\n",
       "  </tbody>\n",
       "</table>\n",
       "</div>"
      ],
      "text/plain": [
       "   Unnamed: 0 Published Date  \\\n",
       "0           0    Feb 21 2024   \n",
       "1           1    Mar 24 2024   \n",
       "2           2    Apr 08 2024   \n",
       "3           3    Mar 01 2024   \n",
       "4           4    Feb 02 2024   \n",
       "\n",
       "                                               Title  \\\n",
       "0  Reproductive policy fights renew the focus on IVF   \n",
       "1  'Some serious stigma': Arizona lawmaker explai...   \n",
       "2  Trump says he’s in favor of letting states dec...   \n",
       "3  CVS and Walgreens Will Begin Selling Abortion ...   \n",
       "4  Wyoming Supreme Court Says Pro-Lifers Can't In...   \n",
       "\n",
       "                                    AllSides Content  \\\n",
       "0  An Alabama Supreme Court decision legally reco...   \n",
       "1  Democratic Sen. Eva Burch got call from VP Har...   \n",
       "2  NEW YORK — Former President Donald Trump said ...   \n",
       "3  The two largest pharmacy chains in the United ...   \n",
       "4  The Wyoming Supreme Court on Friday denied a p...   \n",
       "\n",
       "                                                 URL           News Channel  \\\n",
       "0  https://www.allsides.com/news/2024-02-21-1315/...              Roll Call   \n",
       "1  https://www.allsides.com/news/2024-03-24-1430/...                 12News   \n",
       "2  https://www.allsides.com/news/2024-04-08-1130/...  San Jose Mercury News   \n",
       "3  https://www.allsides.com/news/2024-03-01-1330/...  New York Times (News)   \n",
       "4  https://www.allsides.com/news/2024-02-02-1225/...     Cowboy State Daily   \n",
       "\n",
       "                                    News Channel URL    Bias  \\\n",
       "0  https://rollcall.com/2024/02/20/reproductive-p...  center   \n",
       "1  https://12news.com/article/news/politics/sunda...  center   \n",
       "2  https://mercurynews.com/2024/04/08/trump-says-...    left   \n",
       "3  https://www.nytimes.com/2024/03/01/health/abor...    left   \n",
       "4  https://cowboystatedaily.com/2024/02/02/wyomin...   right   \n",
       "\n",
       "                                                Tags     topic  \\\n",
       "0  ['Supreme Court', 'Healthcare', 'Pregnancy', '...  abortion   \n",
       "1                                       ['Abortion']  abortion   \n",
       "2                                       ['Abortion']  abortion   \n",
       "3  ['Abortion', 'Abortion Pills', 'Public Health'...  abortion   \n",
       "4                      ['Abortion', 'Supreme Court']  abortion   \n",
       "\n",
       "                                News Article Content  \\\n",
       "0  An Alabama Supreme Court decision legally reco...   \n",
       "1  Democratic Sen. Eva Burch got call from VP Har...   \n",
       "2  By Jill Colvin | Associated Press\\n\\nNEW YORK ...   \n",
       "3  The two largest pharmacy chains in the United ...   \n",
       "4  The Wyoming Supreme Court on Friday denied a p...   \n",
       "\n",
       "                                      Processed text  Title_Sentiment_nltk  \\\n",
       "0  alabama supreme court decision legally recogni...               -0.4019   \n",
       "1  democratic sen. eva burch got call vp harris s...               -0.0772   \n",
       "2  jill colvin | associated press new york — form...                0.4019   \n",
       "3  two largest pharmacy chain united state start ...                0.0000   \n",
       "4  wyoming supreme court friday denied petition t...                0.4019   \n",
       "\n",
       "   Sentiment_Content_nltk  Title_Sentiment_huggingface_a  \\\n",
       "0                  0.9900                       0.865067   \n",
       "1                  0.9524                       0.859620   \n",
       "2                  0.7886                       0.728386   \n",
       "3                  0.9612                       0.934649   \n",
       "4                  0.9217                       0.802395   \n",
       "\n",
       "   Title_Sentiment_huggingface_b  Sentiment_Content_huggingface_b  \n",
       "0                       0.543246                         0.536185  \n",
       "1                       0.542583                         0.520938  \n",
       "2                       0.544220                         0.525326  \n",
       "3                       0.538811                         0.518969  \n",
       "4                       0.537625                         0.526178  "
      ]
     },
     "execution_count": 3,
     "metadata": {},
     "output_type": "execute_result"
    }
   ],
   "source": [
    "df = pd.read_csv('news_data_all_labeled.csv')\n",
    "df.head()\n"
   ]
  },
  {
   "cell_type": "code",
   "execution_count": 4,
   "metadata": {},
   "outputs": [
    {
     "data": {
      "text/html": [
       "<div>\n",
       "<style scoped>\n",
       "    .dataframe tbody tr th:only-of-type {\n",
       "        vertical-align: middle;\n",
       "    }\n",
       "\n",
       "    .dataframe tbody tr th {\n",
       "        vertical-align: top;\n",
       "    }\n",
       "\n",
       "    .dataframe thead th {\n",
       "        text-align: right;\n",
       "    }\n",
       "</style>\n",
       "<table border=\"1\" class=\"dataframe\">\n",
       "  <thead>\n",
       "    <tr style=\"text-align: right;\">\n",
       "      <th></th>\n",
       "      <th>Published Date</th>\n",
       "      <th>Title</th>\n",
       "      <th>URL</th>\n",
       "      <th>News Channel</th>\n",
       "      <th>News Channel URL</th>\n",
       "      <th>Bias</th>\n",
       "      <th>Tags</th>\n",
       "      <th>topic</th>\n",
       "      <th>News Article Content</th>\n",
       "      <th>Processed text</th>\n",
       "      <th>Sentiment_Content_nltk</th>\n",
       "    </tr>\n",
       "  </thead>\n",
       "  <tbody>\n",
       "    <tr>\n",
       "      <th>0</th>\n",
       "      <td>Feb 21 2024</td>\n",
       "      <td>Reproductive policy fights renew the focus on IVF</td>\n",
       "      <td>https://www.allsides.com/news/2024-02-21-1315/...</td>\n",
       "      <td>Roll Call</td>\n",
       "      <td>https://rollcall.com/2024/02/20/reproductive-p...</td>\n",
       "      <td>center</td>\n",
       "      <td>['Supreme Court', 'Healthcare', 'Pregnancy', '...</td>\n",
       "      <td>abortion</td>\n",
       "      <td>An Alabama Supreme Court decision legally reco...</td>\n",
       "      <td>alabama supreme court decision legally recogni...</td>\n",
       "      <td>0.9900</td>\n",
       "    </tr>\n",
       "    <tr>\n",
       "      <th>1</th>\n",
       "      <td>Mar 24 2024</td>\n",
       "      <td>'Some serious stigma': Arizona lawmaker explai...</td>\n",
       "      <td>https://www.allsides.com/news/2024-03-24-1430/...</td>\n",
       "      <td>12News</td>\n",
       "      <td>https://12news.com/article/news/politics/sunda...</td>\n",
       "      <td>center</td>\n",
       "      <td>['Abortion']</td>\n",
       "      <td>abortion</td>\n",
       "      <td>Democratic Sen. Eva Burch got call from VP Har...</td>\n",
       "      <td>democratic sen. eva burch got call vp harris s...</td>\n",
       "      <td>0.9524</td>\n",
       "    </tr>\n",
       "    <tr>\n",
       "      <th>2</th>\n",
       "      <td>Apr 08 2024</td>\n",
       "      <td>Trump says he’s in favor of letting states dec...</td>\n",
       "      <td>https://www.allsides.com/news/2024-04-08-1130/...</td>\n",
       "      <td>San Jose Mercury News</td>\n",
       "      <td>https://mercurynews.com/2024/04/08/trump-says-...</td>\n",
       "      <td>left</td>\n",
       "      <td>['Abortion']</td>\n",
       "      <td>abortion</td>\n",
       "      <td>By Jill Colvin | Associated Press\\n\\nNEW YORK ...</td>\n",
       "      <td>jill colvin | associated press new york — form...</td>\n",
       "      <td>0.7886</td>\n",
       "    </tr>\n",
       "    <tr>\n",
       "      <th>3</th>\n",
       "      <td>Mar 01 2024</td>\n",
       "      <td>CVS and Walgreens Will Begin Selling Abortion ...</td>\n",
       "      <td>https://www.allsides.com/news/2024-03-01-1330/...</td>\n",
       "      <td>New York Times (News)</td>\n",
       "      <td>https://www.nytimes.com/2024/03/01/health/abor...</td>\n",
       "      <td>left</td>\n",
       "      <td>['Abortion', 'Abortion Pills', 'Public Health'...</td>\n",
       "      <td>abortion</td>\n",
       "      <td>The two largest pharmacy chains in the United ...</td>\n",
       "      <td>two largest pharmacy chain united state start ...</td>\n",
       "      <td>0.9612</td>\n",
       "    </tr>\n",
       "    <tr>\n",
       "      <th>4</th>\n",
       "      <td>Feb 02 2024</td>\n",
       "      <td>Wyoming Supreme Court Says Pro-Lifers Can't In...</td>\n",
       "      <td>https://www.allsides.com/news/2024-02-02-1225/...</td>\n",
       "      <td>Cowboy State Daily</td>\n",
       "      <td>https://cowboystatedaily.com/2024/02/02/wyomin...</td>\n",
       "      <td>right</td>\n",
       "      <td>['Abortion', 'Supreme Court']</td>\n",
       "      <td>abortion</td>\n",
       "      <td>The Wyoming Supreme Court on Friday denied a p...</td>\n",
       "      <td>wyoming supreme court friday denied petition t...</td>\n",
       "      <td>0.9217</td>\n",
       "    </tr>\n",
       "    <tr>\n",
       "      <th>5</th>\n",
       "      <td>Feb 13 2024</td>\n",
       "      <td>New gun, abortion and labor laws take effect i...</td>\n",
       "      <td>https://www.allsides.com/news/2024-02-13-0322/...</td>\n",
       "      <td>Detroit Free Press</td>\n",
       "      <td>https://freep.com/story/news/politics/2024/02/...</td>\n",
       "      <td>left</td>\n",
       "      <td>['Abortion']</td>\n",
       "      <td>abortion</td>\n",
       "      <td>New Michigan laws approved by Democrats take e...</td>\n",
       "      <td>new michigan law approved democrat take effect...</td>\n",
       "      <td>-0.9689</td>\n",
       "    </tr>\n",
       "    <tr>\n",
       "      <th>6</th>\n",
       "      <td>Apr 04 2024</td>\n",
       "      <td>Latest 2024 election news: Harris returning to...</td>\n",
       "      <td>https://www.allsides.com/news/2024-04-04-0430/...</td>\n",
       "      <td>Washington Post</td>\n",
       "      <td>https://washingtonpost.com/elections/2024/04/0...</td>\n",
       "      <td>left</td>\n",
       "      <td>['2024 Elections', 'Politics']</td>\n",
       "      <td>abortion</td>\n",
       "      <td>Election 2024\\n\\nGet the latest news on the 20...</td>\n",
       "      <td>election 2024 get latest news 2024 election re...</td>\n",
       "      <td>0.7964</td>\n",
       "    </tr>\n",
       "    <tr>\n",
       "      <th>7</th>\n",
       "      <td>Mar 25 2024</td>\n",
       "      <td>New York pro-lifers march with ‘joy on steroids’</td>\n",
       "      <td>https://www.allsides.com/news/2024-03-26-0015/...</td>\n",
       "      <td>Catholic News Agency</td>\n",
       "      <td>https://catholicnewsagency.com/news/257193/pho...</td>\n",
       "      <td>right</td>\n",
       "      <td>['General News']</td>\n",
       "      <td>abortion</td>\n",
       "      <td>The New York Police Department arrested at lea...</td>\n",
       "      <td>new york police department arrested least eigh...</td>\n",
       "      <td>0.8101</td>\n",
       "    </tr>\n",
       "    <tr>\n",
       "      <th>8</th>\n",
       "      <td>Apr 08 2024</td>\n",
       "      <td>Trump says he’s in favor of letting states dec...</td>\n",
       "      <td>https://www.allsides.com/news/2024-04-08-1130/...</td>\n",
       "      <td>San Jose Mercury News</td>\n",
       "      <td>https://mercurynews.com/2024/04/08/trump-says-...</td>\n",
       "      <td>left</td>\n",
       "      <td>['Abortion']</td>\n",
       "      <td>abortion</td>\n",
       "      <td>By Jill Colvin | Associated Press\\n\\nNEW YORK ...</td>\n",
       "      <td>jill colvin | associated press new york — form...</td>\n",
       "      <td>0.7886</td>\n",
       "    </tr>\n",
       "    <tr>\n",
       "      <th>9</th>\n",
       "      <td>Mar 27 2024</td>\n",
       "      <td>How A Leftist Network Of Websites Floods Red S...</td>\n",
       "      <td>https://www.allsides.com/news/2024-03-27-1548/...</td>\n",
       "      <td>The Daily Wire</td>\n",
       "      <td>https://www.dailywire.com/news/how-leftist-net...</td>\n",
       "      <td>right</td>\n",
       "      <td>['Abortion', 'Misinformation And Disinformatio...</td>\n",
       "      <td>abortion</td>\n",
       "      <td>Facilitated by Left-wing activist groups, a ne...</td>\n",
       "      <td>facilitated left-wing activist group , network...</td>\n",
       "      <td>0.9988</td>\n",
       "    </tr>\n",
       "  </tbody>\n",
       "</table>\n",
       "</div>"
      ],
      "text/plain": [
       "  Published Date                                              Title  \\\n",
       "0    Feb 21 2024  Reproductive policy fights renew the focus on IVF   \n",
       "1    Mar 24 2024  'Some serious stigma': Arizona lawmaker explai...   \n",
       "2    Apr 08 2024  Trump says he’s in favor of letting states dec...   \n",
       "3    Mar 01 2024  CVS and Walgreens Will Begin Selling Abortion ...   \n",
       "4    Feb 02 2024  Wyoming Supreme Court Says Pro-Lifers Can't In...   \n",
       "5    Feb 13 2024  New gun, abortion and labor laws take effect i...   \n",
       "6    Apr 04 2024  Latest 2024 election news: Harris returning to...   \n",
       "7    Mar 25 2024   New York pro-lifers march with ‘joy on steroids’   \n",
       "8    Apr 08 2024  Trump says he’s in favor of letting states dec...   \n",
       "9    Mar 27 2024  How A Leftist Network Of Websites Floods Red S...   \n",
       "\n",
       "                                                 URL           News Channel  \\\n",
       "0  https://www.allsides.com/news/2024-02-21-1315/...              Roll Call   \n",
       "1  https://www.allsides.com/news/2024-03-24-1430/...                 12News   \n",
       "2  https://www.allsides.com/news/2024-04-08-1130/...  San Jose Mercury News   \n",
       "3  https://www.allsides.com/news/2024-03-01-1330/...  New York Times (News)   \n",
       "4  https://www.allsides.com/news/2024-02-02-1225/...     Cowboy State Daily   \n",
       "5  https://www.allsides.com/news/2024-02-13-0322/...     Detroit Free Press   \n",
       "6  https://www.allsides.com/news/2024-04-04-0430/...        Washington Post   \n",
       "7  https://www.allsides.com/news/2024-03-26-0015/...   Catholic News Agency   \n",
       "8  https://www.allsides.com/news/2024-04-08-1130/...  San Jose Mercury News   \n",
       "9  https://www.allsides.com/news/2024-03-27-1548/...         The Daily Wire   \n",
       "\n",
       "                                    News Channel URL    Bias  \\\n",
       "0  https://rollcall.com/2024/02/20/reproductive-p...  center   \n",
       "1  https://12news.com/article/news/politics/sunda...  center   \n",
       "2  https://mercurynews.com/2024/04/08/trump-says-...    left   \n",
       "3  https://www.nytimes.com/2024/03/01/health/abor...    left   \n",
       "4  https://cowboystatedaily.com/2024/02/02/wyomin...   right   \n",
       "5  https://freep.com/story/news/politics/2024/02/...    left   \n",
       "6  https://washingtonpost.com/elections/2024/04/0...    left   \n",
       "7  https://catholicnewsagency.com/news/257193/pho...   right   \n",
       "8  https://mercurynews.com/2024/04/08/trump-says-...    left   \n",
       "9  https://www.dailywire.com/news/how-leftist-net...   right   \n",
       "\n",
       "                                                Tags     topic  \\\n",
       "0  ['Supreme Court', 'Healthcare', 'Pregnancy', '...  abortion   \n",
       "1                                       ['Abortion']  abortion   \n",
       "2                                       ['Abortion']  abortion   \n",
       "3  ['Abortion', 'Abortion Pills', 'Public Health'...  abortion   \n",
       "4                      ['Abortion', 'Supreme Court']  abortion   \n",
       "5                                       ['Abortion']  abortion   \n",
       "6                     ['2024 Elections', 'Politics']  abortion   \n",
       "7                                   ['General News']  abortion   \n",
       "8                                       ['Abortion']  abortion   \n",
       "9  ['Abortion', 'Misinformation And Disinformatio...  abortion   \n",
       "\n",
       "                                News Article Content  \\\n",
       "0  An Alabama Supreme Court decision legally reco...   \n",
       "1  Democratic Sen. Eva Burch got call from VP Har...   \n",
       "2  By Jill Colvin | Associated Press\\n\\nNEW YORK ...   \n",
       "3  The two largest pharmacy chains in the United ...   \n",
       "4  The Wyoming Supreme Court on Friday denied a p...   \n",
       "5  New Michigan laws approved by Democrats take e...   \n",
       "6  Election 2024\\n\\nGet the latest news on the 20...   \n",
       "7  The New York Police Department arrested at lea...   \n",
       "8  By Jill Colvin | Associated Press\\n\\nNEW YORK ...   \n",
       "9  Facilitated by Left-wing activist groups, a ne...   \n",
       "\n",
       "                                      Processed text  Sentiment_Content_nltk  \n",
       "0  alabama supreme court decision legally recogni...                  0.9900  \n",
       "1  democratic sen. eva burch got call vp harris s...                  0.9524  \n",
       "2  jill colvin | associated press new york — form...                  0.7886  \n",
       "3  two largest pharmacy chain united state start ...                  0.9612  \n",
       "4  wyoming supreme court friday denied petition t...                  0.9217  \n",
       "5  new michigan law approved democrat take effect...                 -0.9689  \n",
       "6  election 2024 get latest news 2024 election re...                  0.7964  \n",
       "7  new york police department arrested least eigh...                  0.8101  \n",
       "8  jill colvin | associated press new york — form...                  0.7886  \n",
       "9  facilitated left-wing activist group , network...                  0.9988  "
      ]
     },
     "execution_count": 4,
     "metadata": {},
     "output_type": "execute_result"
    }
   ],
   "source": [
    "data = df[[\"Published Date\",\"Title\",\"URL\",\"News Channel\",\"News Channel URL\",\"Bias\",\"Tags\",\"topic\",\\\n",
    "             \"News Article Content\",\"Processed text\",\"Sentiment_Content_nltk\"]]\n",
    "data.head(10)"
   ]
  },
  {
   "cell_type": "code",
   "execution_count": 5,
   "metadata": {},
   "outputs": [
    {
     "data": {
      "text/plain": [
       "topic\n",
       "immigration       2997\n",
       "abortion          2605\n",
       "environment       1408\n",
       "healthcare        1402\n",
       "sustainability    1325\n",
       "public-health     1284\n",
       "Name: count, dtype: int64"
      ]
     },
     "execution_count": 5,
     "metadata": {},
     "output_type": "execute_result"
    }
   ],
   "source": [
    "data.topic.value_counts()"
   ]
  },
  {
   "cell_type": "code",
   "execution_count": 6,
   "metadata": {},
   "outputs": [],
   "source": [
    "topic_mapping = {\n",
    "    'public-health': 'Public Healthcare',\n",
    "    'healthcare': 'Public Healthcare',\n",
    "    'environment':'Environment and Sustainability',\n",
    "    'sustainability':'Environment and Sustainability',\n",
    "    'abortion':'Abortion',\n",
    "    'immigration':\"Immigration\"\n",
    "}\n",
    "\n",
    "# Replace the old topics with the new combined topic\n",
    "data['topic'] = data['topic'].replace(topic_mapping)\n"
   ]
  },
  {
   "cell_type": "code",
   "execution_count": 7,
   "metadata": {},
   "outputs": [
    {
     "data": {
      "text/plain": [
       "topic\n",
       "Immigration                       2997\n",
       "Environment and Sustainability    2733\n",
       "Public Healthcare                 2686\n",
       "Abortion                          2605\n",
       "Name: count, dtype: int64"
      ]
     },
     "execution_count": 7,
     "metadata": {},
     "output_type": "execute_result"
    }
   ],
   "source": [
    "data.topic.value_counts()"
   ]
  },
  {
   "cell_type": "code",
   "execution_count": 8,
   "metadata": {},
   "outputs": [
    {
     "data": {
      "text/plain": [
       "<Axes: ylabel='topic'>"
      ]
     },
     "execution_count": 8,
     "metadata": {},
     "output_type": "execute_result"
    },
    {
     "data": {
      "image/png": "[encoded data removed]",
      "text/plain": [
       "<Figure size 800x600 with 1 Axes>"
      ]
     },
     "metadata": {},
     "output_type": "display_data"
    }
   ],
   "source": [
    "import matplotlib.pyplot as plt\n",
    "plt.figure(figsize=(8, 6))\n",
    "data['topic'].value_counts().plot(kind='barh', color='orange')"
   ]
  },
  {
   "cell_type": "code",
   "execution_count": 9,
   "metadata": {},
   "outputs": [],
   "source": [
    "data = data.rename(columns={'Sentiment_Content_nltk': 'Label'})\n",
    "data[\"Label\"] = data[\"Label\"].round(1)"
   ]
  },
  {
   "cell_type": "code",
   "execution_count": 10,
   "metadata": {},
   "outputs": [
    {
     "data": {
      "text/plain": [
       "Label\n",
       " 1.0    3752\n",
       "-1.0    2693\n",
       " 0.9    1023\n",
       "-0.9     791\n",
       " 0.8     348\n",
       "-0.8     307\n",
       " 0.6     234\n",
       "-0.7     208\n",
       " 0.2     196\n",
       " 0.1     193\n",
       "-0.4     179\n",
       " 0.7     157\n",
       " 0.4     138\n",
       "-0.6     137\n",
       "-0.2     130\n",
       "-0.1     126\n",
       " 0.5     126\n",
       "-0.5     111\n",
       "-0.0      75\n",
       "-0.3      72\n",
       " 0.3      25\n",
       "Name: count, dtype: int64"
      ]
     },
     "execution_count": 10,
     "metadata": {},
     "output_type": "execute_result"
    }
   ],
   "source": [
    "data.Label.value_counts()"
   ]
  },
  {
   "cell_type": "code",
   "execution_count": 11,
   "metadata": {},
   "outputs": [
    {
     "data": {
      "text/html": [
       "<div>\n",
       "<style scoped>\n",
       "    .dataframe tbody tr th:only-of-type {\n",
       "        vertical-align: middle;\n",
       "    }\n",
       "\n",
       "    .dataframe tbody tr th {\n",
       "        vertical-align: top;\n",
       "    }\n",
       "\n",
       "    .dataframe thead th {\n",
       "        text-align: right;\n",
       "    }\n",
       "</style>\n",
       "<table border=\"1\" class=\"dataframe\">\n",
       "  <thead>\n",
       "    <tr style=\"text-align: right;\">\n",
       "      <th></th>\n",
       "      <th>Published Date</th>\n",
       "      <th>Title</th>\n",
       "      <th>URL</th>\n",
       "      <th>News Channel</th>\n",
       "      <th>News Channel URL</th>\n",
       "      <th>Bias</th>\n",
       "      <th>Tags</th>\n",
       "      <th>topic</th>\n",
       "      <th>News Article Content</th>\n",
       "      <th>Processed text</th>\n",
       "      <th>Label</th>\n",
       "    </tr>\n",
       "  </thead>\n",
       "  <tbody>\n",
       "    <tr>\n",
       "      <th>0</th>\n",
       "      <td>Feb 21 2024</td>\n",
       "      <td>Reproductive policy fights renew the focus on IVF</td>\n",
       "      <td>https://www.allsides.com/news/2024-02-21-1315/...</td>\n",
       "      <td>Roll Call</td>\n",
       "      <td>https://rollcall.com/2024/02/20/reproductive-p...</td>\n",
       "      <td>center</td>\n",
       "      <td>['Supreme Court', 'Healthcare', 'Pregnancy', '...</td>\n",
       "      <td>Abortion</td>\n",
       "      <td>An Alabama Supreme Court decision legally reco...</td>\n",
       "      <td>alabama supreme court decision legally recogni...</td>\n",
       "      <td>1.0</td>\n",
       "    </tr>\n",
       "    <tr>\n",
       "      <th>1</th>\n",
       "      <td>Mar 24 2024</td>\n",
       "      <td>'Some serious stigma': Arizona lawmaker explai...</td>\n",
       "      <td>https://www.allsides.com/news/2024-03-24-1430/...</td>\n",
       "      <td>12News</td>\n",
       "      <td>https://12news.com/article/news/politics/sunda...</td>\n",
       "      <td>center</td>\n",
       "      <td>['Abortion']</td>\n",
       "      <td>Abortion</td>\n",
       "      <td>Democratic Sen. Eva Burch got call from VP Har...</td>\n",
       "      <td>democratic sen. eva burch got call vp harris s...</td>\n",
       "      <td>1.0</td>\n",
       "    </tr>\n",
       "    <tr>\n",
       "      <th>2</th>\n",
       "      <td>Apr 08 2024</td>\n",
       "      <td>Trump says he’s in favor of letting states dec...</td>\n",
       "      <td>https://www.allsides.com/news/2024-04-08-1130/...</td>\n",
       "      <td>San Jose Mercury News</td>\n",
       "      <td>https://mercurynews.com/2024/04/08/trump-says-...</td>\n",
       "      <td>left</td>\n",
       "      <td>['Abortion']</td>\n",
       "      <td>Abortion</td>\n",
       "      <td>By Jill Colvin | Associated Press\\n\\nNEW YORK ...</td>\n",
       "      <td>jill colvin | associated press new york — form...</td>\n",
       "      <td>0.8</td>\n",
       "    </tr>\n",
       "    <tr>\n",
       "      <th>3</th>\n",
       "      <td>Mar 01 2024</td>\n",
       "      <td>CVS and Walgreens Will Begin Selling Abortion ...</td>\n",
       "      <td>https://www.allsides.com/news/2024-03-01-1330/...</td>\n",
       "      <td>New York Times (News)</td>\n",
       "      <td>https://www.nytimes.com/2024/03/01/health/abor...</td>\n",
       "      <td>left</td>\n",
       "      <td>['Abortion', 'Abortion Pills', 'Public Health'...</td>\n",
       "      <td>Abortion</td>\n",
       "      <td>The two largest pharmacy chains in the United ...</td>\n",
       "      <td>two largest pharmacy chain united state start ...</td>\n",
       "      <td>1.0</td>\n",
       "    </tr>\n",
       "    <tr>\n",
       "      <th>4</th>\n",
       "      <td>Feb 02 2024</td>\n",
       "      <td>Wyoming Supreme Court Says Pro-Lifers Can't In...</td>\n",
       "      <td>https://www.allsides.com/news/2024-02-02-1225/...</td>\n",
       "      <td>Cowboy State Daily</td>\n",
       "      <td>https://cowboystatedaily.com/2024/02/02/wyomin...</td>\n",
       "      <td>right</td>\n",
       "      <td>['Abortion', 'Supreme Court']</td>\n",
       "      <td>Abortion</td>\n",
       "      <td>The Wyoming Supreme Court on Friday denied a p...</td>\n",
       "      <td>wyoming supreme court friday denied petition t...</td>\n",
       "      <td>0.9</td>\n",
       "    </tr>\n",
       "    <tr>\n",
       "      <th>5</th>\n",
       "      <td>Feb 13 2024</td>\n",
       "      <td>New gun, abortion and labor laws take effect i...</td>\n",
       "      <td>https://www.allsides.com/news/2024-02-13-0322/...</td>\n",
       "      <td>Detroit Free Press</td>\n",
       "      <td>https://freep.com/story/news/politics/2024/02/...</td>\n",
       "      <td>left</td>\n",
       "      <td>['Abortion']</td>\n",
       "      <td>Abortion</td>\n",
       "      <td>New Michigan laws approved by Democrats take e...</td>\n",
       "      <td>new michigan law approved democrat take effect...</td>\n",
       "      <td>-1.0</td>\n",
       "    </tr>\n",
       "    <tr>\n",
       "      <th>6</th>\n",
       "      <td>Apr 04 2024</td>\n",
       "      <td>Latest 2024 election news: Harris returning to...</td>\n",
       "      <td>https://www.allsides.com/news/2024-04-04-0430/...</td>\n",
       "      <td>Washington Post</td>\n",
       "      <td>https://washingtonpost.com/elections/2024/04/0...</td>\n",
       "      <td>left</td>\n",
       "      <td>['2024 Elections', 'Politics']</td>\n",
       "      <td>Abortion</td>\n",
       "      <td>Election 2024\\n\\nGet the latest news on the 20...</td>\n",
       "      <td>election 2024 get latest news 2024 election re...</td>\n",
       "      <td>0.8</td>\n",
       "    </tr>\n",
       "    <tr>\n",
       "      <th>7</th>\n",
       "      <td>Mar 25 2024</td>\n",
       "      <td>New York pro-lifers march with ‘joy on steroids’</td>\n",
       "      <td>https://www.allsides.com/news/2024-03-26-0015/...</td>\n",
       "      <td>Catholic News Agency</td>\n",
       "      <td>https://catholicnewsagency.com/news/257193/pho...</td>\n",
       "      <td>right</td>\n",
       "      <td>['General News']</td>\n",
       "      <td>Abortion</td>\n",
       "      <td>The New York Police Department arrested at lea...</td>\n",
       "      <td>new york police department arrested least eigh...</td>\n",
       "      <td>0.8</td>\n",
       "    </tr>\n",
       "    <tr>\n",
       "      <th>8</th>\n",
       "      <td>Apr 08 2024</td>\n",
       "      <td>Trump says he’s in favor of letting states dec...</td>\n",
       "      <td>https://www.allsides.com/news/2024-04-08-1130/...</td>\n",
       "      <td>San Jose Mercury News</td>\n",
       "      <td>https://mercurynews.com/2024/04/08/trump-says-...</td>\n",
       "      <td>left</td>\n",
       "      <td>['Abortion']</td>\n",
       "      <td>Abortion</td>\n",
       "      <td>By Jill Colvin | Associated Press\\n\\nNEW YORK ...</td>\n",
       "      <td>jill colvin | associated press new york — form...</td>\n",
       "      <td>0.8</td>\n",
       "    </tr>\n",
       "    <tr>\n",
       "      <th>9</th>\n",
       "      <td>Mar 27 2024</td>\n",
       "      <td>How A Leftist Network Of Websites Floods Red S...</td>\n",
       "      <td>https://www.allsides.com/news/2024-03-27-1548/...</td>\n",
       "      <td>The Daily Wire</td>\n",
       "      <td>https://www.dailywire.com/news/how-leftist-net...</td>\n",
       "      <td>right</td>\n",
       "      <td>['Abortion', 'Misinformation And Disinformatio...</td>\n",
       "      <td>Abortion</td>\n",
       "      <td>Facilitated by Left-wing activist groups, a ne...</td>\n",
       "      <td>facilitated left-wing activist group , network...</td>\n",
       "      <td>1.0</td>\n",
       "    </tr>\n",
       "  </tbody>\n",
       "</table>\n",
       "</div>"
      ],
      "text/plain": [
       "  Published Date                                              Title  \\\n",
       "0    Feb 21 2024  Reproductive policy fights renew the focus on IVF   \n",
       "1    Mar 24 2024  'Some serious stigma': Arizona lawmaker explai...   \n",
       "2    Apr 08 2024  Trump says he’s in favor of letting states dec...   \n",
       "3    Mar 01 2024  CVS and Walgreens Will Begin Selling Abortion ...   \n",
       "4    Feb 02 2024  Wyoming Supreme Court Says Pro-Lifers Can't In...   \n",
       "5    Feb 13 2024  New gun, abortion and labor laws take effect i...   \n",
       "6    Apr 04 2024  Latest 2024 election news: Harris returning to...   \n",
       "7    Mar 25 2024   New York pro-lifers march with ‘joy on steroids’   \n",
       "8    Apr 08 2024  Trump says he’s in favor of letting states dec...   \n",
       "9    Mar 27 2024  How A Leftist Network Of Websites Floods Red S...   \n",
       "\n",
       "                                                 URL           News Channel  \\\n",
       "0  https://www.allsides.com/news/2024-02-21-1315/...              Roll Call   \n",
       "1  https://www.allsides.com/news/2024-03-24-1430/...                 12News   \n",
       "2  https://www.allsides.com/news/2024-04-08-1130/...  San Jose Mercury News   \n",
       "3  https://www.allsides.com/news/2024-03-01-1330/...  New York Times (News)   \n",
       "4  https://www.allsides.com/news/2024-02-02-1225/...     Cowboy State Daily   \n",
       "5  https://www.allsides.com/news/2024-02-13-0322/...     Detroit Free Press   \n",
       "6  https://www.allsides.com/news/2024-04-04-0430/...        Washington Post   \n",
       "7  https://www.allsides.com/news/2024-03-26-0015/...   Catholic News Agency   \n",
       "8  https://www.allsides.com/news/2024-04-08-1130/...  San Jose Mercury News   \n",
       "9  https://www.allsides.com/news/2024-03-27-1548/...         The Daily Wire   \n",
       "\n",
       "                                    News Channel URL    Bias  \\\n",
       "0  https://rollcall.com/2024/02/20/reproductive-p...  center   \n",
       "1  https://12news.com/article/news/politics/sunda...  center   \n",
       "2  https://mercurynews.com/2024/04/08/trump-says-...    left   \n",
       "3  https://www.nytimes.com/2024/03/01/health/abor...    left   \n",
       "4  https://cowboystatedaily.com/2024/02/02/wyomin...   right   \n",
       "5  https://freep.com/story/news/politics/2024/02/...    left   \n",
       "6  https://washingtonpost.com/elections/2024/04/0...    left   \n",
       "7  https://catholicnewsagency.com/news/257193/pho...   right   \n",
       "8  https://mercurynews.com/2024/04/08/trump-says-...    left   \n",
       "9  https://www.dailywire.com/news/how-leftist-net...   right   \n",
       "\n",
       "                                                Tags     topic  \\\n",
       "0  ['Supreme Court', 'Healthcare', 'Pregnancy', '...  Abortion   \n",
       "1                                       ['Abortion']  Abortion   \n",
       "2                                       ['Abortion']  Abortion   \n",
       "3  ['Abortion', 'Abortion Pills', 'Public Health'...  Abortion   \n",
       "4                      ['Abortion', 'Supreme Court']  Abortion   \n",
       "5                                       ['Abortion']  Abortion   \n",
       "6                     ['2024 Elections', 'Politics']  Abortion   \n",
       "7                                   ['General News']  Abortion   \n",
       "8                                       ['Abortion']  Abortion   \n",
       "9  ['Abortion', 'Misinformation And Disinformatio...  Abortion   \n",
       "\n",
       "                                News Article Content  \\\n",
       "0  An Alabama Supreme Court decision legally reco...   \n",
       "1  Democratic Sen. Eva Burch got call from VP Har...   \n",
       "2  By Jill Colvin | Associated Press\\n\\nNEW YORK ...   \n",
       "3  The two largest pharmacy chains in the United ...   \n",
       "4  The Wyoming Supreme Court on Friday denied a p...   \n",
       "5  New Michigan laws approved by Democrats take e...   \n",
       "6  Election 2024\\n\\nGet the latest news on the 20...   \n",
       "7  The New York Police Department arrested at lea...   \n",
       "8  By Jill Colvin | Associated Press\\n\\nNEW YORK ...   \n",
       "9  Facilitated by Left-wing activist groups, a ne...   \n",
       "\n",
       "                                      Processed text  Label  \n",
       "0  alabama supreme court decision legally recogni...    1.0  \n",
       "1  democratic sen. eva burch got call vp harris s...    1.0  \n",
       "2  jill colvin | associated press new york — form...    0.8  \n",
       "3  two largest pharmacy chain united state start ...    1.0  \n",
       "4  wyoming supreme court friday denied petition t...    0.9  \n",
       "5  new michigan law approved democrat take effect...   -1.0  \n",
       "6  election 2024 get latest news 2024 election re...    0.8  \n",
       "7  new york police department arrested least eigh...    0.8  \n",
       "8  jill colvin | associated press new york — form...    0.8  \n",
       "9  facilitated left-wing activist group , network...    1.0  "
      ]
     },
     "execution_count": 11,
     "metadata": {},
     "output_type": "execute_result"
    }
   ],
   "source": [
    "data.head(10)"
   ]
  },
  {
   "cell_type": "code",
   "execution_count": 12,
   "metadata": {},
   "outputs": [],
   "source": [
    "le = LabelEncoder()\n",
    "data['Label'] = le.fit_transform(data['Label'])\n"
   ]
  },
  {
   "cell_type": "code",
   "execution_count": 13,
   "metadata": {},
   "outputs": [],
   "source": [
    "(train_texts, train_labels,\n",
    " val_texts, val_labels,\n",
    " test_texts, test_labels) = train_valid_test_split(data[[\"Processed text\",\"Label\"]], target = 'Label', train_size=0.8, valid_size=0.1, test_size=0.1)"
   ]
  },
  {
   "cell_type": "code",
   "execution_count": 14,
   "metadata": {},
   "outputs": [
    {
     "data": {
      "text/plain": [
       "4714     0\n",
       "6848    20\n",
       "5748    18\n",
       "9452     0\n",
       "8933     0\n",
       "        ..\n",
       "9687    16\n",
       "7037     0\n",
       "7619     0\n",
       "5375     0\n",
       "2579     0\n",
       "Name: Label, Length: 8816, dtype: int64"
      ]
     },
     "execution_count": 14,
     "metadata": {},
     "output_type": "execute_result"
    }
   ],
   "source": [
    "train_labels"
   ]
  },
  {
   "cell_type": "code",
   "execution_count": 15,
   "metadata": {},
   "outputs": [
    {
     "data": {
      "text/html": [
       "<div>\n",
       "<style scoped>\n",
       "    .dataframe tbody tr th:only-of-type {\n",
       "        vertical-align: middle;\n",
       "    }\n",
       "\n",
       "    .dataframe tbody tr th {\n",
       "        vertical-align: top;\n",
       "    }\n",
       "\n",
       "    .dataframe thead th {\n",
       "        text-align: right;\n",
       "    }\n",
       "</style>\n",
       "<table border=\"1\" class=\"dataframe\">\n",
       "  <thead>\n",
       "    <tr style=\"text-align: right;\">\n",
       "      <th></th>\n",
       "      <th>Processed text</th>\n",
       "    </tr>\n",
       "  </thead>\n",
       "  <tbody>\n",
       "    <tr>\n",
       "      <th>4714</th>\n",
       "      <td>jamiel lynch , cnn ( cnn ) — wake county publi...</td>\n",
       "    </tr>\n",
       "    <tr>\n",
       "      <th>6848</th>\n",
       "      <td>“ creating sustainable world people wildlife t...</td>\n",
       "    </tr>\n",
       "    <tr>\n",
       "      <th>5748</th>\n",
       "      <td>four decade business , 99 cent store close doo...</td>\n",
       "    </tr>\n",
       "    <tr>\n",
       "      <th>9452</th>\n",
       "      <td>georgia senate thursday pushed bill aimed forc...</td>\n",
       "    </tr>\n",
       "    <tr>\n",
       "      <th>8933</th>\n",
       "      <td>texas ' plan arrest migrant illegal entry work...</td>\n",
       "    </tr>\n",
       "    <tr>\n",
       "      <th>...</th>\n",
       "      <td>...</td>\n",
       "    </tr>\n",
       "    <tr>\n",
       "      <th>9687</th>\n",
       "      <td>federal judge dismissed legal challenge washin...</td>\n",
       "    </tr>\n",
       "    <tr>\n",
       "      <th>7037</th>\n",
       "      <td>washington , dc – detective metropolitan polic...</td>\n",
       "    </tr>\n",
       "    <tr>\n",
       "      <th>7619</th>\n",
       "      <td>two warren police officer injured saturday nig...</td>\n",
       "    </tr>\n",
       "    <tr>\n",
       "      <th>5375</th>\n",
       "      <td>enel : italian energy giant invades america ( ...</td>\n",
       "    </tr>\n",
       "    <tr>\n",
       "      <th>2579</th>\n",
       "      <td>julianne mcshane wanted report vulnerable woma...</td>\n",
       "    </tr>\n",
       "  </tbody>\n",
       "</table>\n",
       "<p>8816 rows × 1 columns</p>\n",
       "</div>"
      ],
      "text/plain": [
       "                                         Processed text\n",
       "4714  jamiel lynch , cnn ( cnn ) — wake county publi...\n",
       "6848  “ creating sustainable world people wildlife t...\n",
       "5748  four decade business , 99 cent store close doo...\n",
       "9452  georgia senate thursday pushed bill aimed forc...\n",
       "8933  texas ' plan arrest migrant illegal entry work...\n",
       "...                                                 ...\n",
       "9687  federal judge dismissed legal challenge washin...\n",
       "7037  washington , dc – detective metropolitan polic...\n",
       "7619  two warren police officer injured saturday nig...\n",
       "5375  enel : italian energy giant invades america ( ...\n",
       "2579  julianne mcshane wanted report vulnerable woma...\n",
       "\n",
       "[8816 rows x 1 columns]"
      ]
     },
     "execution_count": 15,
     "metadata": {},
     "output_type": "execute_result"
    }
   ],
   "source": [
    "train_texts"
   ]
  },
  {
   "cell_type": "code",
   "execution_count": 16,
   "metadata": {},
   "outputs": [
    {
     "data": {
      "text/plain": [
       "11021"
      ]
     },
     "execution_count": 16,
     "metadata": {},
     "output_type": "execute_result"
    }
   ],
   "source": [
    "data[\"Label\"].shape[0]"
   ]
  },
  {
   "cell_type": "code",
   "execution_count": 17,
   "metadata": {},
   "outputs": [
    {
     "data": {
      "text/plain": [
       "11021"
      ]
     },
     "execution_count": 17,
     "metadata": {},
     "output_type": "execute_result"
    }
   ],
   "source": [
    "data[\"Processed text\"].shape[0]"
   ]
  },
  {
   "cell_type": "code",
   "execution_count": 18,
   "metadata": {},
   "outputs": [],
   "source": [
    "class DataLoader(torch.utils.data.Dataset):\n",
    "    def __init__(self, sentences=None, labels=None):\n",
    "        \n",
    "        self.sentences = sentences\n",
    "        self.labels = labels\n",
    "        self.tokenizer = AutoTokenizer.from_pretrained('distilbert-base-uncased')\n",
    "        \n",
    "        self.encodings = self.tokenizer(self.sentences[\"Processed text\"].tolist(),\n",
    "                                            truncation = True,\n",
    "                                            padding = True)\n",
    "        print(len(self.sentences))\n",
    "        print(len(self.labels))\n",
    "        if isinstance(self.labels, pd.Series):\n",
    "            self.labels = self.labels.to_list()\n",
    "            \n",
    "        if len(self.sentences) != len(self.labels):\n",
    "            raise ValueError(\"Length of sentences and labels must be the same.\")\n",
    "        \n",
    "    def __getitem__(self, idx):\n",
    "        item = {key: torch.tensor(val[idx]) for key, val in self.encodings.items()}\n",
    "        \n",
    "        if self.labels is None:\n",
    "            item['labels'] = None\n",
    "        else:\n",
    "            item['labels'] = torch.tensor(self.labels[idx])\n",
    "            \n",
    "        return item\n",
    "\n",
    "    def __len__(self):\n",
    "        return len(self.sentences)\n",
    "    \n",
    "    \n",
    "    def encode(self, x):\n",
    "        return self.tokenizer(x, return_tensors = 'pt').to(DEVICE)\n"
   ]
  },
  {
   "cell_type": "code",
   "execution_count": 19,
   "metadata": {},
   "outputs": [
    {
     "name": "stdout",
     "output_type": "stream",
     "text": [
      "8816\n",
      "8816\n",
      "1102\n",
      "1102\n",
      "1103\n",
      "1103\n"
     ]
    }
   ],
   "source": [
    "train_dataset = DataLoader(train_texts, train_labels)\n",
    "val_dataset = DataLoader(val_texts, val_labels)\n",
    "test_dataset = DataLoader(test_texts, test_labels)\n"
   ]
  },
  {
   "cell_type": "code",
   "execution_count": 20,
   "metadata": {},
   "outputs": [
    {
     "name": "stdout",
     "output_type": "stream",
     "text": [
      "{'input_ids': tensor([  101,  6175,  2140, 11404,  1010, 13229,  1006, 13229,  1007,  1517,\n",
      "         5256,  2221,  2270,  2740,  2533, 11538, 22343, 12087,  2111,  3110,\n",
      "         5665,  5983, 15842,  1010,  2167,  3792,  1010, 10514,  6182,  4825,\n",
      "         1010,  2164, 18087,  6406,  9870,  6815,  2288,  5305,  5030,  1012,\n",
      "         2521,  1010,  2093,  2553,  4496,  4492, 26013,  5799, 10514,  6182,\n",
      "         3157,  4825,  1010,  2740,  2533,  2056,  2739,  2713,  1012,  4496,\n",
      "         4492, 26013,  1516,  2823,  2170,  1523,  4308, 19857,  1524,  1523,\n",
      "         4308, 11829,  1524,  1516,  9530, 15900,  6313,  7865,  3426, 21733,\n",
      "         4308, 20014,  4355,  3170,  1010,  2877, 22939, 12171, 20192, 24780,\n",
      "         1010,  2429,  2415,  4295,  2491,  9740,  1012,  2111,  3206,  7355,\n",
      "         2746,  3967, 10372,  2711,  1010,  5983, 19450,  2833,  1010,  7244,\n",
      "        19450,  3302,  1012,  9870,  6406,  5958,  1010,  5899,  2489,  4877,\n",
      "         2056,  2155,  8823,  4825,  2281,  2756,  2150,  5665,  2206,  2154,\n",
      "         1523, 19029,  1010, 24780,  1010,  4308, 13675, 16613,  2075,  1010,\n",
      "         6740, 12336,  1010, 16342,  1010, 14978,  1010,  5729, 21419,  3255,\n",
      "         2139, 10536,  7265,  3508,  1012,  1524,  2489,  4877,  2056, 25353,\n",
      "        27718,  5358, 27622,  2506,  2802,  5030,  5353,  1012,  2175, 13661,\n",
      "         2729,  5057,  2282,  4374,  2195,  4524,  4921,  8331,  1010,  2429,\n",
      "         9870,  1012,  2489,  4877,  4851,  2457, 25851,  3815,  4053, 17003,\n",
      "         1002,  2423,  1010,  2199,  2164,  3279, 11897,  1010,  2966, 10961,\n",
      "         1010,  3604, 10961,  1010,  6832, 12893,  1010,  3558,  3255,  1012,\n",
      "         9870,  2360,  2489,  4877,  4484,  2553,  4496,  4492, 26013,  1012,\n",
      "        13229,  2584,  4825,  7615,  1012,  2034,  2711,  3189,  2740,  2533,\n",
      "         2056,  2150,  5665,  5983,  4825,  2285,  1015,  1010,  2270,  2740,\n",
      "         2880,  2056,  2739,  2713,  1012,  2144,  1010,  2533,  2363,  2561,\n",
      "        22343, 12087, 15736,  4716, 10514,  6182,  3157,  2281,  2654,  2285,\n",
      "         1019,  1012, 22343,  2111,  2988,  3352,  5305,  1010, 10894, 10263,\n",
      "         2356,  3073, 14708,  7099,  1010,  2126,  3231,  7865,  1010,  2739,\n",
      "         2713,  2360,  1012,  2093,  2445,  7099,  1010,  2234,  2067,  3893,\n",
      "         4496,  4492, 26013,  1010,  2360,  1012,  4825, 17912,  2701,  2784,\n",
      "         9344,  2285,  1019,  2144, 11882,  1012,  2047, 12087,  2363,  2144,\n",
      "        11882,  2285,  1022,  1010,  2429,  2713,  1012,  2221,  4247,  8556,\n",
      "         4022,  3120,  7524,  1010,  2664,  9231,  8400,  2098,  2309,  2828,\n",
      "         2833,  2453,  3120,  1010,  2713,  2056,  1010,  5815,  2988,  3352,\n",
      "         5305,  8823,  2367,  8875, 12183,  1012,  1996,  1011, 13229,  1011,\n",
      "         7318,  1580,  1004,  1075, 16798,  2509,  5830,  2739,  2897,  1010,\n",
      "         4297,  1012,  1010,  6654, 10243,  1012,  5456,  2194,  1012,  2157,\n",
      "         9235,  1012,   102,     0,     0,     0,     0,     0,     0,     0,\n",
      "            0,     0,     0,     0,     0,     0,     0,     0,     0,     0,\n",
      "            0,     0,     0,     0,     0,     0,     0,     0,     0,     0,\n",
      "            0,     0,     0,     0,     0,     0,     0,     0,     0,     0,\n",
      "            0,     0,     0,     0,     0,     0,     0,     0,     0,     0,\n",
      "            0,     0,     0,     0,     0,     0,     0,     0,     0,     0,\n",
      "            0,     0,     0,     0,     0,     0,     0,     0,     0,     0,\n",
      "            0,     0,     0,     0,     0,     0,     0,     0,     0,     0,\n",
      "            0,     0,     0,     0,     0,     0,     0,     0,     0,     0,\n",
      "            0,     0,     0,     0,     0,     0,     0,     0,     0,     0,\n",
      "            0,     0,     0,     0,     0,     0,     0,     0,     0,     0,\n",
      "            0,     0,     0,     0,     0,     0,     0,     0,     0,     0,\n",
      "            0,     0,     0,     0,     0,     0,     0,     0,     0,     0,\n",
      "            0,     0,     0,     0,     0,     0,     0,     0,     0,     0,\n",
      "            0,     0]), 'attention_mask': tensor([1, 1, 1, 1, 1, 1, 1, 1, 1, 1, 1, 1, 1, 1, 1, 1, 1, 1, 1, 1, 1, 1, 1, 1,\n",
      "        1, 1, 1, 1, 1, 1, 1, 1, 1, 1, 1, 1, 1, 1, 1, 1, 1, 1, 1, 1, 1, 1, 1, 1,\n",
      "        1, 1, 1, 1, 1, 1, 1, 1, 1, 1, 1, 1, 1, 1, 1, 1, 1, 1, 1, 1, 1, 1, 1, 1,\n",
      "        1, 1, 1, 1, 1, 1, 1, 1, 1, 1, 1, 1, 1, 1, 1, 1, 1, 1, 1, 1, 1, 1, 1, 1,\n",
      "        1, 1, 1, 1, 1, 1, 1, 1, 1, 1, 1, 1, 1, 1, 1, 1, 1, 1, 1, 1, 1, 1, 1, 1,\n",
      "        1, 1, 1, 1, 1, 1, 1, 1, 1, 1, 1, 1, 1, 1, 1, 1, 1, 1, 1, 1, 1, 1, 1, 1,\n",
      "        1, 1, 1, 1, 1, 1, 1, 1, 1, 1, 1, 1, 1, 1, 1, 1, 1, 1, 1, 1, 1, 1, 1, 1,\n",
      "        1, 1, 1, 1, 1, 1, 1, 1, 1, 1, 1, 1, 1, 1, 1, 1, 1, 1, 1, 1, 1, 1, 1, 1,\n",
      "        1, 1, 1, 1, 1, 1, 1, 1, 1, 1, 1, 1, 1, 1, 1, 1, 1, 1, 1, 1, 1, 1, 1, 1,\n",
      "        1, 1, 1, 1, 1, 1, 1, 1, 1, 1, 1, 1, 1, 1, 1, 1, 1, 1, 1, 1, 1, 1, 1, 1,\n",
      "        1, 1, 1, 1, 1, 1, 1, 1, 1, 1, 1, 1, 1, 1, 1, 1, 1, 1, 1, 1, 1, 1, 1, 1,\n",
      "        1, 1, 1, 1, 1, 1, 1, 1, 1, 1, 1, 1, 1, 1, 1, 1, 1, 1, 1, 1, 1, 1, 1, 1,\n",
      "        1, 1, 1, 1, 1, 1, 1, 1, 1, 1, 1, 1, 1, 1, 1, 1, 1, 1, 1, 1, 1, 1, 1, 1,\n",
      "        1, 1, 1, 1, 1, 1, 1, 1, 1, 1, 1, 1, 1, 1, 1, 1, 1, 1, 1, 1, 1, 1, 1, 1,\n",
      "        1, 1, 1, 1, 1, 1, 1, 1, 1, 1, 1, 1, 1, 1, 1, 1, 1, 1, 1, 1, 1, 1, 1, 1,\n",
      "        1, 1, 1, 1, 1, 1, 1, 1, 1, 1, 1, 1, 1, 0, 0, 0, 0, 0, 0, 0, 0, 0, 0, 0,\n",
      "        0, 0, 0, 0, 0, 0, 0, 0, 0, 0, 0, 0, 0, 0, 0, 0, 0, 0, 0, 0, 0, 0, 0, 0,\n",
      "        0, 0, 0, 0, 0, 0, 0, 0, 0, 0, 0, 0, 0, 0, 0, 0, 0, 0, 0, 0, 0, 0, 0, 0,\n",
      "        0, 0, 0, 0, 0, 0, 0, 0, 0, 0, 0, 0, 0, 0, 0, 0, 0, 0, 0, 0, 0, 0, 0, 0,\n",
      "        0, 0, 0, 0, 0, 0, 0, 0, 0, 0, 0, 0, 0, 0, 0, 0, 0, 0, 0, 0, 0, 0, 0, 0,\n",
      "        0, 0, 0, 0, 0, 0, 0, 0, 0, 0, 0, 0, 0, 0, 0, 0, 0, 0, 0, 0, 0, 0, 0, 0,\n",
      "        0, 0, 0, 0, 0, 0, 0, 0]), 'labels': tensor(0)}\n"
     ]
    }
   ],
   "source": [
    "print (train_dataset.__getitem__(0))\n"
   ]
  },
  {
   "cell_type": "code",
   "execution_count": 21,
   "metadata": {},
   "outputs": [],
   "source": [
    "f1 = datasets.load_metric('f1')\n",
    "accuracy = datasets.load_metric('accuracy')\n",
    "precision = datasets.load_metric('precision')\n",
    "recall = datasets.load_metric('recall')\n",
    "def compute_metrics(eval_pred):\n",
    "    metrics_dict = {}\n",
    "    predictions, labels = eval_pred\n",
    "    predictions = np.argmax(predictions, axis=1)\n",
    "    \n",
    "    metrics_dict.update(f1.compute(predictions = predictions, references = labels, average = 'macro'))\n",
    "    metrics_dict.update(accuracy.compute(predictions = predictions, references = labels))\n",
    "    metrics_dict.update(precision.compute(predictions = predictions, references = labels, average = 'macro'))\n",
    "    metrics_dict.update(recall.compute(predictions = predictions, references = labels, average = 'macro'))\n",
    "    return metrics_dict\n"
   ]
  },
  {
   "cell_type": "code",
   "execution_count": 22,
   "metadata": {},
   "outputs": [
    {
     "name": "stdout",
     "output_type": "stream",
     "text": [
      "[-1.  -0.9 -0.8 -0.7 -0.6 -0.5 -0.4 -0.3 -0.2 -0.1  0.   0.1  0.2  0.3\n",
      "  0.4  0.5  0.6  0.7  0.8  0.9  1. ]\n"
     ]
    }
   ],
   "source": [
    "print (le.classes_)\n"
   ]
  },
  {
   "cell_type": "code",
   "execution_count": 23,
   "metadata": {},
   "outputs": [],
   "source": [
    "id2label = {idx:label for idx, label in enumerate(le.classes_)}\n",
    "label2id = {label:idx for idx, label in enumerate(le.classes_)}\n",
    "config = AutoConfig.from_pretrained('distilbert-base-uncased',\n",
    "                                    num_labels = 21,\n",
    "                                    id2label = id2label,\n",
    "                                    label2id = label2id)\n",
    "model = AutoModelForSequenceClassification.from_config(config)\n"
   ]
  },
  {
   "cell_type": "code",
   "execution_count": 24,
   "metadata": {},
   "outputs": [
    {
     "name": "stdout",
     "output_type": "stream",
     "text": [
      "DistilBertConfig {\n",
      "  \"_name_or_path\": \"distilbert-base-uncased\",\n",
      "  \"activation\": \"gelu\",\n",
      "  \"architectures\": [\n",
      "    \"DistilBertForMaskedLM\"\n",
      "  ],\n",
      "  \"attention_dropout\": 0.1,\n",
      "  \"dim\": 768,\n",
      "  \"dropout\": 0.1,\n",
      "  \"hidden_dim\": 3072,\n",
      "  \"id2label\": {\n",
      "    \"0\": -1.0,\n",
      "    \"1\": -0.9,\n",
      "    \"2\": -0.8,\n",
      "    \"3\": -0.7,\n",
      "    \"4\": -0.6,\n",
      "    \"5\": -0.5,\n",
      "    \"6\": -0.4,\n",
      "    \"7\": -0.3,\n",
      "    \"8\": -0.2,\n",
      "    \"9\": -0.1,\n",
      "    \"10\": 0.0,\n",
      "    \"11\": 0.1,\n",
      "    \"12\": 0.2,\n",
      "    \"13\": 0.3,\n",
      "    \"14\": 0.4,\n",
      "    \"15\": 0.5,\n",
      "    \"16\": 0.6,\n",
      "    \"17\": 0.7,\n",
      "    \"18\": 0.8,\n",
      "    \"19\": 0.9,\n",
      "    \"20\": 1.0\n",
      "  },\n",
      "  \"initializer_range\": 0.02,\n",
      "  \"label2id\": {\n",
      "    \"-1.0\": 0,\n",
      "    \"-0.9\": 1,\n",
      "    \"-0.8\": 2,\n",
      "    \"-0.7\": 3,\n",
      "    \"-0.6\": 4,\n",
      "    \"-0.5\": 5,\n",
      "    \"-0.4\": 6,\n",
      "    \"-0.3\": 7,\n",
      "    \"-0.2\": 8,\n",
      "    \"-0.1\": 9,\n",
      "    \"0.0\": 10,\n",
      "    \"0.1\": 11,\n",
      "    \"0.2\": 12,\n",
      "    \"0.3\": 13,\n",
      "    \"0.4\": 14,\n",
      "    \"0.5\": 15,\n",
      "    \"0.6\": 16,\n",
      "    \"0.7\": 17,\n",
      "    \"0.8\": 18,\n",
      "    \"0.9\": 19,\n",
      "    \"1.0\": 20\n",
      "  },\n",
      "  \"max_position_embeddings\": 512,\n",
      "  \"model_type\": \"distilbert\",\n",
      "  \"n_heads\": 12,\n",
      "  \"n_layers\": 6,\n",
      "  \"pad_token_id\": 0,\n",
      "  \"qa_dropout\": 0.1,\n",
      "  \"seq_classif_dropout\": 0.2,\n",
      "  \"sinusoidal_pos_embds\": false,\n",
      "  \"tie_weights_\": true,\n",
      "  \"transformers_version\": \"4.39.2\",\n",
      "  \"vocab_size\": 30522\n",
      "}\n",
      "\n"
     ]
    }
   ],
   "source": [
    "print (config)\n"
   ]
  },
  {
   "cell_type": "code",
   "execution_count": 25,
   "metadata": {},
   "outputs": [
    {
     "name": "stdout",
     "output_type": "stream",
     "text": [
      "DistilBertForSequenceClassification(\n",
      "  (distilbert): DistilBertModel(\n",
      "    (embeddings): Embeddings(\n",
      "      (word_embeddings): Embedding(30522, 768, padding_idx=0)\n",
      "      (position_embeddings): Embedding(512, 768)\n",
      "      (LayerNorm): LayerNorm((768,), eps=1e-12, elementwise_affine=True)\n",
      "      (dropout): Dropout(p=0.1, inplace=False)\n",
      "    )\n",
      "    (transformer): Transformer(\n",
      "      (layer): ModuleList(\n",
      "        (0-5): 6 x TransformerBlock(\n",
      "          (attention): MultiHeadSelfAttention(\n",
      "            (dropout): Dropout(p=0.1, inplace=False)\n",
      "            (q_lin): Linear(in_features=768, out_features=768, bias=True)\n",
      "            (k_lin): Linear(in_features=768, out_features=768, bias=True)\n",
      "            (v_lin): Linear(in_features=768, out_features=768, bias=True)\n",
      "            (out_lin): Linear(in_features=768, out_features=768, bias=True)\n",
      "          )\n",
      "          (sa_layer_norm): LayerNorm((768,), eps=1e-12, elementwise_affine=True)\n",
      "          (ffn): FFN(\n",
      "            (dropout): Dropout(p=0.1, inplace=False)\n",
      "            (lin1): Linear(in_features=768, out_features=3072, bias=True)\n",
      "            (lin2): Linear(in_features=3072, out_features=768, bias=True)\n",
      "            (activation): GELUActivation()\n",
      "          )\n",
      "          (output_layer_norm): LayerNorm((768,), eps=1e-12, elementwise_affine=True)\n",
      "        )\n",
      "      )\n",
      "    )\n",
      "  )\n",
      "  (pre_classifier): Linear(in_features=768, out_features=768, bias=True)\n",
      "  (classifier): Linear(in_features=768, out_features=21, bias=True)\n",
      "  (dropout): Dropout(p=0.2, inplace=False)\n",
      ")\n"
     ]
    }
   ],
   "source": [
    "print (model)\n"
   ]
  },
  {
   "cell_type": "code",
   "execution_count": 26,
   "metadata": {},
   "outputs": [
    {
     "name": "stdout",
     "output_type": "stream",
     "text": [
      "zsh:1: no matches found: transformers[torch]\n",
      "Note: you may need to restart the kernel to use updated packages.\n"
     ]
    },
    {
     "name": "stderr",
     "output_type": "stream",
     "text": [
      "huggingface/tokenizers: The current process just got forked, after parallelism has already been used. Disabling parallelism to avoid deadlocks...\n",
      "To disable this warning, you can either:\n",
      "\t- Avoid using `tokenizers` before the fork if possible\n",
      "\t- Explicitly set the environment variable TOKENIZERS_PARALLELISM=(true | false)\n"
     ]
    }
   ],
   "source": [
    "pip install transformers[torch]"
   ]
  },
  {
   "cell_type": "code",
   "execution_count": 29,
   "metadata": {},
   "outputs": [],
   "source": [
    "training_args = TrainingArguments(\n",
    "    output_dir='./output_dir',\n",
    "    num_train_epochs=10,\n",
    "    per_device_train_batch_size=64,\n",
    "    per_device_eval_batch_size=64,\n",
    "    warmup_steps=500,\n",
    "    weight_decay=0.05,\n",
    "    report_to='none',\n",
    "    evaluation_strategy='steps',\n",
    "    logging_dir='./logs',\n",
    "    logging_steps=50)\n"
   ]
  },
  {
   "cell_type": "code",
   "execution_count": 30,
   "metadata": {},
   "outputs": [],
   "source": [
    "trainer = Trainer(\n",
    "    model=model,\n",
    "    args=training_args,\n",
    "    train_dataset=train_dataset,\n",
    "    eval_dataset=val_dataset,\n",
    "    compute_metrics=compute_metrics)\n"
   ]
  },
  {
   "cell_type": "code",
   "execution_count": 31,
   "metadata": {},
   "outputs": [
    {
     "name": "stderr",
     "output_type": "stream",
     "text": [
      "huggingface/tokenizers: The current process just got forked, after parallelism has already been used. Disabling parallelism to avoid deadlocks...\n",
      "To disable this warning, you can either:\n",
      "\t- Avoid using `tokenizers` before the fork if possible\n",
      "\t- Explicitly set the environment variable TOKENIZERS_PARALLELISM=(true | false)\n"
     ]
    },
    {
     "data": {
      "application/vnd.jupyter.widget-view+json": {
       "model_id": "a56154bb6fb84b0f809413c2d4f2d748",
       "version_major": 2,
       "version_minor": 0
      },
      "text/plain": [
       "  0%|          | 0/1380 [00:00<?, ?it/s]"
      ]
     },
     "metadata": {},
     "output_type": "display_data"
    },
    {
     "name": "stdout",
     "output_type": "stream",
     "text": [
      "{'loss': 2.6486, 'grad_norm': 4.224931716918945, 'learning_rate': 5e-06, 'epoch': 0.36}\n"
     ]
    },
    {
     "data": {
      "application/vnd.jupyter.widget-view+json": {
       "model_id": "742d0c303ba446ad81860cccdfeec3a3",
       "version_major": 2,
       "version_minor": 0
      },
      "text/plain": [
       "  0%|          | 0/18 [00:00<?, ?it/s]"
      ]
     },
     "metadata": {},
     "output_type": "display_data"
    },
    {
     "name": "stdout",
     "output_type": "stream",
     "text": [
      "{'eval_loss': 2.2653985023498535, 'eval_f1': 0.022707078684963966, 'eval_accuracy': 0.31306715063520874, 'eval_precision': 0.014907959554057559, 'eval_recall': 0.047619047619047616, 'eval_runtime': 17.0391, 'eval_samples_per_second': 64.675, 'eval_steps_per_second': 1.056, 'epoch': 0.36}\n",
      "{'loss': 2.1521, 'grad_norm': 2.5842652320861816, 'learning_rate': 1e-05, 'epoch': 0.72}\n"
     ]
    },
    {
     "data": {
      "application/vnd.jupyter.widget-view+json": {
       "model_id": "2e18012688a749d2a643594237af000f",
       "version_major": 2,
       "version_minor": 0
      },
      "text/plain": [
       "  0%|          | 0/18 [00:00<?, ?it/s]"
      ]
     },
     "metadata": {},
     "output_type": "display_data"
    },
    {
     "name": "stdout",
     "output_type": "stream",
     "text": [
      "{'eval_loss': 2.1713316440582275, 'eval_f1': 0.022707078684963966, 'eval_accuracy': 0.31306715063520874, 'eval_precision': 0.014907959554057559, 'eval_recall': 0.047619047619047616, 'eval_runtime': 16.6717, 'eval_samples_per_second': 66.1, 'eval_steps_per_second': 1.08, 'epoch': 0.72}\n",
      "{'loss': 2.0913, 'grad_norm': 3.9492721557617188, 'learning_rate': 1.5e-05, 'epoch': 1.09}\n"
     ]
    },
    {
     "data": {
      "application/vnd.jupyter.widget-view+json": {
       "model_id": "30534160d8784e669ccae376566df6bf",
       "version_major": 2,
       "version_minor": 0
      },
      "text/plain": [
       "  0%|          | 0/18 [00:00<?, ?it/s]"
      ]
     },
     "metadata": {},
     "output_type": "display_data"
    },
    {
     "name": "stdout",
     "output_type": "stream",
     "text": [
      "{'eval_loss': 2.0333263874053955, 'eval_f1': 0.06870391939516363, 'eval_accuracy': 0.38021778584392013, 'eval_precision': 0.055049435222527275, 'eval_recall': 0.095872406933788, 'eval_runtime': 17.4905, 'eval_samples_per_second': 63.006, 'eval_steps_per_second': 1.029, 'epoch': 1.09}\n",
      "{'loss': 1.8733, 'grad_norm': 4.052870750427246, 'learning_rate': 2e-05, 'epoch': 1.45}\n"
     ]
    },
    {
     "data": {
      "application/vnd.jupyter.widget-view+json": {
       "model_id": "b3875dcf363d42dfb5960569e027170e",
       "version_major": 2,
       "version_minor": 0
      },
      "text/plain": [
       "  0%|          | 0/18 [00:00<?, ?it/s]"
      ]
     },
     "metadata": {},
     "output_type": "display_data"
    },
    {
     "name": "stdout",
     "output_type": "stream",
     "text": [
      "{'eval_loss': 1.7126808166503906, 'eval_f1': 0.13586432753847552, 'eval_accuracy': 0.5462794918330308, 'eval_precision': 0.14891324536435477, 'eval_recall': 0.15317516646766882, 'eval_runtime': 18.5369, 'eval_samples_per_second': 59.449, 'eval_steps_per_second': 0.971, 'epoch': 1.45}\n",
      "{'loss': 1.5254, 'grad_norm': 3.992086410522461, 'learning_rate': 2.5e-05, 'epoch': 1.81}\n"
     ]
    },
    {
     "data": {
      "application/vnd.jupyter.widget-view+json": {
       "model_id": "39a442f80524406c9febd1a0d6d62252",
       "version_major": 2,
       "version_minor": 0
      },
      "text/plain": [
       "  0%|          | 0/18 [00:00<?, ?it/s]"
      ]
     },
     "metadata": {},
     "output_type": "display_data"
    },
    {
     "name": "stdout",
     "output_type": "stream",
     "text": [
      "{'eval_loss': 1.3744553327560425, 'eval_f1': 0.17664159231927434, 'eval_accuracy': 0.6270417422867514, 'eval_precision': 0.17815363626808434, 'eval_recall': 0.18898417639980628, 'eval_runtime': 17.5877, 'eval_samples_per_second': 62.657, 'eval_steps_per_second': 1.023, 'epoch': 1.81}\n"
     ]
    }
   ],
   "source": [
    "trainer.train()\n"
   ]
  },
  {
   "cell_type": "code",
   "execution_count": null,
   "metadata": {},
   "outputs": [],
   "source": []
  }
 ],
 "metadata": {
  "kernelspec": {
   "display_name": "Python 3",
   "language": "python",
   "name": "python3"
  },
  "language_info": {
   "codemirror_mode": {
    "name": "ipython",
    "version": 3
   },
   "file_extension": ".py",
   "mimetype": "text/x-python",
   "name": "python",
   "nbconvert_exporter": "python",
   "pygments_lexer": "ipython3",
   "version": "3.11.6"
  }
 },
 "nbformat": 4,
 "nbformat_minor": 2
}
