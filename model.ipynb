version https://git-lfs.github.com/spec/v1
oid sha256:cf3b7722e6b039b3fb3cbbd575b3ce0f2c0aa0f9573faf8a7aa1eb8028f0b787
size 147238
